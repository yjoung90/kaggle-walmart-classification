{
 "cells": [
  {
   "cell_type": "code",
   "execution_count": 1,
   "metadata": {},
   "outputs": [
    {
     "name": "stderr",
     "output_type": "stream",
     "text": [
      "/home/yjoung90/.pyenv/versions/3.6.4/lib/python3.6/site-packages/sklearn/cross_validation.py:41: DeprecationWarning: This module was deprecated in version 0.18 in favor of the model_selection module into which all the refactored classes and functions are moved. Also note that the interface of the new CV iterators are different from that of this module. This module will be removed in 0.20.\n",
      "  \"This module will be removed in 0.20.\", DeprecationWarning)\n",
      "/home/yjoung90/.pyenv/versions/3.6.4/lib/python3.6/site-packages/statsmodels/compat/pandas.py:56: FutureWarning: The pandas.core.datetools module is deprecated and will be removed in a future version. Please use the pandas.tseries module instead.\n",
      "  from pandas.core import datetools\n"
     ]
    }
   ],
   "source": [
    "import pandas as pd\n",
    "import numpy as np\n",
    "import matplotlib as mpl\n",
    "import matplotlib.pyplot as plt\n",
    "import seaborn as sns\n",
    "from mpl_toolkits.mplot3d import Axes3D\n",
    "from sklearn.cross_validation import train_test_split\n",
    "from sklearn.linear_model import LogisticRegression\n",
    "from sklearn.multiclass import OneVsRestClassifier, OneVsOneClassifier\n",
    "from sklearn.ensemble import ExtraTreesClassifier\n",
    "from sklearn.ensemble import RandomForestClassifier\n",
    "import statsmodels.api as sm\n",
    "from scipy import stats\n",
    "from sklearn.metrics import *\n",
    "from sklearn.discriminant_analysis import *\n",
    "from sklearn.naive_bayes import *\n",
    "from sklearn.tree import *\n",
    "stats.chisqprob = lambda chisq, df: stats.chi2.sf(chisq, df)\n",
    "# import xgboost\n",
    "from sklearn.metrics import log_loss\n",
    "%matplotlib inline"
   ]
  },
  {
   "cell_type": "markdown",
   "metadata": {},
   "source": [
    "# DATA IMPORT"
   ]
  },
  {
   "cell_type": "code",
   "execution_count": 2,
   "metadata": {},
   "outputs": [
    {
     "data": {
      "text/plain": [
       "'/home/yjoung90/Documents/datascience/teamproject2/code'"
      ]
     },
     "execution_count": 2,
     "metadata": {},
     "output_type": "execute_result"
    }
   ],
   "source": [
    "%pwd"
   ]
  },
  {
   "cell_type": "code",
   "execution_count": 3,
   "metadata": {},
   "outputs": [],
   "source": [
    "train = pd.read_csv('/home/yjoung90/Documents/datascience/teamproject2/data/train.csv')\n",
    "test = pd.read_csv('/home/yjoung90/Documents/datascience/teamproject2/data/test.csv')\n",
    "sample_submission = pd.read_csv('/home/yjoung90/Documents/datascience/teamproject2/data/sample_submission.csv')"
   ]
  },
  {
   "cell_type": "markdown",
   "metadata": {},
   "source": [
    "# DATA STRUCTURE"
   ]
  },
  {
   "cell_type": "code",
   "execution_count": 4,
   "metadata": {},
   "outputs": [],
   "source": [
    "def plot_decision_regions(X, y, model, title):\n",
    "    resolution = 0.01\n",
    "    markers = ('s', '^', 'o')\n",
    "    colors = ('red', 'blue', 'lightgreen')\n",
    "    cmap = mpl.colors.ListedColormap(colors[:len(np.unique(y))])\n",
    "    \n",
    "    x1_min, x1_max = X[:, 0].min() - 1, X[:, 0].max() + 1\n",
    "    x2_min, x2_max = X[:, 1].min() - 1, X[:, 1].max() + 1\n",
    "    xx1, xx2 = np.meshgrid(np.arange(x1_min, x1_max, resolution), np.arange(x2_min, x2_max, resolution))\n",
    "    Z = model.predict(np.array([xx1.ravel(), xx2.ravel()]).T).reshape(xx1.shape)\n",
    "    \n",
    "    plt.contourf(xx1, xx2, Z, alpha=0.4, cmap=cmap)\n",
    "    plt.xlim(xx1.min(), xx1.max())\n",
    "    plt.ylim(xx2.min(), xx2.max())\n",
    "\n",
    "    for idx, cl in enumerate(np.unique(y)):\n",
    "        plt.scatter(x=X[y == cl, 0], y=X[y == cl, 1], alpha=0.8, c=cmap(idx), marker=markers[idx], s=80, label=cl)\n",
    "\n",
    "    plt.xlabel(iris.feature_names[2])\n",
    "    plt.ylabel(iris.feature_names[3])\n",
    "    plt.legend(loc='upper left')\n",
    "    plt.title(title)\n",
    "    \n",
    "    return Z"
   ]
  },
  {
   "cell_type": "code",
   "execution_count": 5,
   "metadata": {},
   "outputs": [],
   "source": [
    "def find_missing_values(df):\n",
    "    try:\n",
    "\n",
    "        missing = df.isnull().sum()\n",
    "        missing = missing[missing >0]\n",
    "\n",
    "        missing.sort_values(inplace = True)\n",
    "        print(missing)\n",
    "\n",
    "        missing.plot(kind = 'bar')\n",
    "        plt.show()\n",
    "        \n",
    "    except:\n",
    "        print(\"No missing values\")\n",
    "        \n",
    "def missing_values_idx(df):\n",
    "    \n",
    "    missing = df.isnull().sum()\n",
    "    missing = missing[missing >0]\n",
    "\n",
    "    missing_col = missing.index\n",
    "\n",
    "    for col in missing_col:\n",
    "        missing_idx = df[col].isnull()\n",
    "        missing_idx = missing_idx[missing_idx].index\n",
    "        print(missing_idx, col)\n",
    "        print(\"\\\\\")"
   ]
  },
  {
   "cell_type": "code",
   "execution_count": 6,
   "metadata": {},
   "outputs": [
    {
     "name": "stdout",
     "output_type": "stream",
     "text": [
      "DepartmentDescription    1361\n",
      "Upc                      4129\n",
      "FinelineNumber           4129\n",
      "dtype: int64\n"
     ]
    },
    {
     "data": {
      "image/png": "[encoded data removed]",
      "text/plain": [
       "<Figure size 432x288 with 1 Axes>"
      ]
     },
     "metadata": {},
     "output_type": "display_data"
    },
    {
     "name": "stdout",
     "output_type": "stream",
     "text": [
      "Int64Index([    25,    548,    549,    959,   1116,   1134,   1135,   1155,\n",
      "              1216,   1373,\n",
      "            ...\n",
      "            640573, 642017, 642236, 642499, 642784, 643137, 643991, 645990,\n",
      "            645991, 645992],\n",
      "           dtype='int64', length=4129) Upc\n",
      "\\\n",
      "Int64Index([    25,    548,    549,    959,   1116,   1134,   1135,   1926,\n",
      "              1927,   2294,\n",
      "            ...\n",
      "            640573, 642017, 642236, 642499, 642784, 643137, 643991, 645990,\n",
      "            645991, 645992],\n",
      "           dtype='int64', length=1361) DepartmentDescription\n",
      "\\\n",
      "Int64Index([    25,    548,    549,    959,   1116,   1134,   1135,   1155,\n",
      "              1216,   1373,\n",
      "            ...\n",
      "            640573, 642017, 642236, 642499, 642784, 643137, 643991, 645990,\n",
      "            645991, 645992],\n",
      "           dtype='int64', length=4129) FinelineNumber\n",
      "\\\n"
     ]
    },
    {
     "data": {
      "text/plain": [
       "(None, None)"
      ]
     },
     "execution_count": 6,
     "metadata": {},
     "output_type": "execute_result"
    }
   ],
   "source": [
    "find_missing_values(train), missing_values_idx(train)"
   ]
  },
  {
   "cell_type": "markdown",
   "metadata": {},
   "source": [
    "# DATA VISUALIZATION"
   ]
  },
  {
   "cell_type": "code",
   "execution_count": null,
   "metadata": {},
   "outputs": [],
   "source": []
  },
  {
   "cell_type": "code",
   "execution_count": null,
   "metadata": {},
   "outputs": [],
   "source": []
  },
  {
   "cell_type": "code",
   "execution_count": null,
   "metadata": {},
   "outputs": [],
   "source": []
  },
  {
   "cell_type": "markdown",
   "metadata": {},
   "source": [
    "# PREPROCESSING"
   ]
  },
  {
   "cell_type": "code",
   "execution_count": 7,
   "metadata": {},
   "outputs": [],
   "source": [
    "weekday=['Monday', 'Tuesday', 'Wednesday', 'Thursday', 'Friday', 'Saturday', 'Sunday']\n",
    "train['weeknum'] = np.nan\n",
    "test['weeknum'] = np.nan\n",
    "for idx, day in enumerate(weekday):\n",
    "    train['weeknum'] = np.where(train['Weekday'] == day, idx, train['weeknum'])\n",
    "    test['weeknum'] = np.where(test['Weekday'] == day, idx, test['weeknum'])"
   ]
  },
  {
   "cell_type": "markdown",
   "metadata": {},
   "source": [
    "- Total number of items per visit\n",
    "- Percentage of items purchased based on Department\n",
    "- Percentage of items purchased based on Fineline Number\n",
    "- Percentage of items purchased by UPC\n",
    "- Count of different items purchased (based on UPC)\n",
    "- Count of returned items\n",
    "- Boolean for presence of returned item"
   ]
  },
  {
   "cell_type": "code",
   "execution_count": 8,
   "metadata": {},
   "outputs": [],
   "source": [
    "train['test'] = False\n",
    "test['test'] = True\n",
    "train_test = pd.concat([train,test], axis=0)"
   ]
  },
  {
   "cell_type": "code",
   "execution_count": 9,
   "metadata": {},
   "outputs": [],
   "source": [
    "train_test['Upc'] = train_test['Upc'].fillna(value = 9999)\n",
    "train_test['FinelineNumber'] = train_test['FinelineNumber'].fillna(value = 9999)\n",
    "train_test['DepartmentDescription'] = train_test['DepartmentDescription'].fillna(value = 'Nodata')"
   ]
  },
  {
   "cell_type": "code",
   "execution_count": 10,
   "metadata": {},
   "outputs": [],
   "source": [
    "train_test['Return'] = np.where(train_test['ScanCount'] < 0, -train_test['ScanCount'], 0)"
   ]
  },
  {
   "cell_type": "markdown",
   "metadata": {},
   "source": [
    "## BY DEPARTMENT DESCRIPTION"
   ]
  },
  {
   "cell_type": "code",
   "execution_count": 11,
   "metadata": {},
   "outputs": [],
   "source": [
    "dum = pd.get_dummies(train_test['DepartmentDescription'])\n",
    "dum_wk = pd.get_dummies(train_test['weeknum'])\n",
    "train_test[dum.columns] = dum\n",
    "train_test[['Mon', 'Tue', 'Wed', 'Thu', 'Fri', 'Sat', 'Sun']] = dum_wk\n",
    "train_test.drop(['DepartmentDescription', 'FinelineNumber', 'Upc', 'Weekday'], axis =1, inplace=True)"
   ]
  },
  {
   "cell_type": "code",
   "execution_count": 12,
   "metadata": {
    "scrolled": false
   },
   "outputs": [],
   "source": [
    "# grouped_fineline_pca = pd.read_csv('grouped_fineline_pca.csv')"
   ]
  },
  {
   "cell_type": "code",
   "execution_count": 13,
   "metadata": {
    "scrolled": true
   },
   "outputs": [
    {
     "ename": "FileNotFoundError",
     "evalue": "File b'df_to_be_added.csv' does not exist",
     "output_type": "error",
     "traceback": [
      "\u001b[0;31m---------------------------------------------------------------------------\u001b[0m",
      "\u001b[0;31mFileNotFoundError\u001b[0m                         Traceback (most recent call last)",
      "\u001b[0;32m<ipython-input-13-8e3b6cdd8fb1>\u001b[0m in \u001b[0;36m<module>\u001b[0;34m()\u001b[0m\n\u001b[0;32m----> 1\u001b[0;31m \u001b[0mdf_preprocessed\u001b[0m \u001b[0;34m=\u001b[0m \u001b[0mpd\u001b[0m\u001b[0;34m.\u001b[0m\u001b[0mread_csv\u001b[0m\u001b[0;34m(\u001b[0m\u001b[0;34m'df_to_be_added.csv'\u001b[0m\u001b[0;34m)\u001b[0m\u001b[0;34m\u001b[0m\u001b[0m\n\u001b[0m",
      "\u001b[0;32m~/.pyenv/versions/3.6.4/lib/python3.6/site-packages/pandas/io/parsers.py\u001b[0m in \u001b[0;36mparser_f\u001b[0;34m(filepath_or_buffer, sep, delimiter, header, names, index_col, usecols, squeeze, prefix, mangle_dupe_cols, dtype, engine, converters, true_values, false_values, skipinitialspace, skiprows, nrows, na_values, keep_default_na, na_filter, verbose, skip_blank_lines, parse_dates, infer_datetime_format, keep_date_col, date_parser, dayfirst, iterator, chunksize, compression, thousands, decimal, lineterminator, quotechar, quoting, escapechar, comment, encoding, dialect, tupleize_cols, error_bad_lines, warn_bad_lines, skipfooter, skip_footer, doublequote, delim_whitespace, as_recarray, compact_ints, use_unsigned, low_memory, buffer_lines, memory_map, float_precision)\u001b[0m\n\u001b[1;32m    707\u001b[0m                     skip_blank_lines=skip_blank_lines)\n\u001b[1;32m    708\u001b[0m \u001b[0;34m\u001b[0m\u001b[0m\n\u001b[0;32m--> 709\u001b[0;31m         \u001b[0;32mreturn\u001b[0m \u001b[0m_read\u001b[0m\u001b[0;34m(\u001b[0m\u001b[0mfilepath_or_buffer\u001b[0m\u001b[0;34m,\u001b[0m \u001b[0mkwds\u001b[0m\u001b[0;34m)\u001b[0m\u001b[0;34m\u001b[0m\u001b[0m\n\u001b[0m\u001b[1;32m    710\u001b[0m \u001b[0;34m\u001b[0m\u001b[0m\n\u001b[1;32m    711\u001b[0m     \u001b[0mparser_f\u001b[0m\u001b[0;34m.\u001b[0m\u001b[0m__name__\u001b[0m \u001b[0;34m=\u001b[0m \u001b[0mname\u001b[0m\u001b[0;34m\u001b[0m\u001b[0m\n",
      "\u001b[0;32m~/.pyenv/versions/3.6.4/lib/python3.6/site-packages/pandas/io/parsers.py\u001b[0m in \u001b[0;36m_read\u001b[0;34m(filepath_or_buffer, kwds)\u001b[0m\n\u001b[1;32m    447\u001b[0m \u001b[0;34m\u001b[0m\u001b[0m\n\u001b[1;32m    448\u001b[0m     \u001b[0;31m# Create the parser.\u001b[0m\u001b[0;34m\u001b[0m\u001b[0;34m\u001b[0m\u001b[0m\n\u001b[0;32m--> 449\u001b[0;31m     \u001b[0mparser\u001b[0m \u001b[0;34m=\u001b[0m \u001b[0mTextFileReader\u001b[0m\u001b[0;34m(\u001b[0m\u001b[0mfilepath_or_buffer\u001b[0m\u001b[0;34m,\u001b[0m \u001b[0;34m**\u001b[0m\u001b[0mkwds\u001b[0m\u001b[0;34m)\u001b[0m\u001b[0;34m\u001b[0m\u001b[0m\n\u001b[0m\u001b[1;32m    450\u001b[0m \u001b[0;34m\u001b[0m\u001b[0m\n\u001b[1;32m    451\u001b[0m     \u001b[0;32mif\u001b[0m \u001b[0mchunksize\u001b[0m \u001b[0;32mor\u001b[0m \u001b[0miterator\u001b[0m\u001b[0;34m:\u001b[0m\u001b[0;34m\u001b[0m\u001b[0m\n",
      "\u001b[0;32m~/.pyenv/versions/3.6.4/lib/python3.6/site-packages/pandas/io/parsers.py\u001b[0m in \u001b[0;36m__init__\u001b[0;34m(self, f, engine, **kwds)\u001b[0m\n\u001b[1;32m    816\u001b[0m             \u001b[0mself\u001b[0m\u001b[0;34m.\u001b[0m\u001b[0moptions\u001b[0m\u001b[0;34m[\u001b[0m\u001b[0;34m'has_index_names'\u001b[0m\u001b[0;34m]\u001b[0m \u001b[0;34m=\u001b[0m \u001b[0mkwds\u001b[0m\u001b[0;34m[\u001b[0m\u001b[0;34m'has_index_names'\u001b[0m\u001b[0;34m]\u001b[0m\u001b[0;34m\u001b[0m\u001b[0m\n\u001b[1;32m    817\u001b[0m \u001b[0;34m\u001b[0m\u001b[0m\n\u001b[0;32m--> 818\u001b[0;31m         \u001b[0mself\u001b[0m\u001b[0;34m.\u001b[0m\u001b[0m_make_engine\u001b[0m\u001b[0;34m(\u001b[0m\u001b[0mself\u001b[0m\u001b[0;34m.\u001b[0m\u001b[0mengine\u001b[0m\u001b[0;34m)\u001b[0m\u001b[0;34m\u001b[0m\u001b[0m\n\u001b[0m\u001b[1;32m    819\u001b[0m \u001b[0;34m\u001b[0m\u001b[0m\n\u001b[1;32m    820\u001b[0m     \u001b[0;32mdef\u001b[0m \u001b[0mclose\u001b[0m\u001b[0;34m(\u001b[0m\u001b[0mself\u001b[0m\u001b[0;34m)\u001b[0m\u001b[0;34m:\u001b[0m\u001b[0;34m\u001b[0m\u001b[0m\n",
      "\u001b[0;32m~/.pyenv/versions/3.6.4/lib/python3.6/site-packages/pandas/io/parsers.py\u001b[0m in \u001b[0;36m_make_engine\u001b[0;34m(self, engine)\u001b[0m\n\u001b[1;32m   1047\u001b[0m     \u001b[0;32mdef\u001b[0m \u001b[0m_make_engine\u001b[0m\u001b[0;34m(\u001b[0m\u001b[0mself\u001b[0m\u001b[0;34m,\u001b[0m \u001b[0mengine\u001b[0m\u001b[0;34m=\u001b[0m\u001b[0;34m'c'\u001b[0m\u001b[0;34m)\u001b[0m\u001b[0;34m:\u001b[0m\u001b[0;34m\u001b[0m\u001b[0m\n\u001b[1;32m   1048\u001b[0m         \u001b[0;32mif\u001b[0m \u001b[0mengine\u001b[0m \u001b[0;34m==\u001b[0m \u001b[0;34m'c'\u001b[0m\u001b[0;34m:\u001b[0m\u001b[0;34m\u001b[0m\u001b[0m\n\u001b[0;32m-> 1049\u001b[0;31m             \u001b[0mself\u001b[0m\u001b[0;34m.\u001b[0m\u001b[0m_engine\u001b[0m \u001b[0;34m=\u001b[0m \u001b[0mCParserWrapper\u001b[0m\u001b[0;34m(\u001b[0m\u001b[0mself\u001b[0m\u001b[0;34m.\u001b[0m\u001b[0mf\u001b[0m\u001b[0;34m,\u001b[0m \u001b[0;34m**\u001b[0m\u001b[0mself\u001b[0m\u001b[0;34m.\u001b[0m\u001b[0moptions\u001b[0m\u001b[0;34m)\u001b[0m\u001b[0;34m\u001b[0m\u001b[0m\n\u001b[0m\u001b[1;32m   1050\u001b[0m         \u001b[0;32melse\u001b[0m\u001b[0;34m:\u001b[0m\u001b[0;34m\u001b[0m\u001b[0m\n\u001b[1;32m   1051\u001b[0m             \u001b[0;32mif\u001b[0m \u001b[0mengine\u001b[0m \u001b[0;34m==\u001b[0m \u001b[0;34m'python'\u001b[0m\u001b[0;34m:\u001b[0m\u001b[0;34m\u001b[0m\u001b[0m\n",
      "\u001b[0;32m~/.pyenv/versions/3.6.4/lib/python3.6/site-packages/pandas/io/parsers.py\u001b[0m in \u001b[0;36m__init__\u001b[0;34m(self, src, **kwds)\u001b[0m\n\u001b[1;32m   1693\u001b[0m         \u001b[0mkwds\u001b[0m\u001b[0;34m[\u001b[0m\u001b[0;34m'allow_leading_cols'\u001b[0m\u001b[0;34m]\u001b[0m \u001b[0;34m=\u001b[0m \u001b[0mself\u001b[0m\u001b[0;34m.\u001b[0m\u001b[0mindex_col\u001b[0m \u001b[0;32mis\u001b[0m \u001b[0;32mnot\u001b[0m \u001b[0;32mFalse\u001b[0m\u001b[0;34m\u001b[0m\u001b[0m\n\u001b[1;32m   1694\u001b[0m \u001b[0;34m\u001b[0m\u001b[0m\n\u001b[0;32m-> 1695\u001b[0;31m         \u001b[0mself\u001b[0m\u001b[0;34m.\u001b[0m\u001b[0m_reader\u001b[0m \u001b[0;34m=\u001b[0m \u001b[0mparsers\u001b[0m\u001b[0;34m.\u001b[0m\u001b[0mTextReader\u001b[0m\u001b[0;34m(\u001b[0m\u001b[0msrc\u001b[0m\u001b[0;34m,\u001b[0m \u001b[0;34m**\u001b[0m\u001b[0mkwds\u001b[0m\u001b[0;34m)\u001b[0m\u001b[0;34m\u001b[0m\u001b[0m\n\u001b[0m\u001b[1;32m   1696\u001b[0m \u001b[0;34m\u001b[0m\u001b[0m\n\u001b[1;32m   1697\u001b[0m         \u001b[0;31m# XXX\u001b[0m\u001b[0;34m\u001b[0m\u001b[0;34m\u001b[0m\u001b[0m\n",
      "\u001b[0;32mpandas/_libs/parsers.pyx\u001b[0m in \u001b[0;36mpandas._libs.parsers.TextReader.__cinit__\u001b[0;34m()\u001b[0m\n",
      "\u001b[0;32mpandas/_libs/parsers.pyx\u001b[0m in \u001b[0;36mpandas._libs.parsers.TextReader._setup_parser_source\u001b[0;34m()\u001b[0m\n",
      "\u001b[0;31mFileNotFoundError\u001b[0m: File b'df_to_be_added.csv' does not exist"
     ]
    }
   ],
   "source": [
    "df_preprocessed = pd.read_csv('df_to_be_added.csv')"
   ]
  },
  {
   "cell_type": "code",
   "execution_count": 22,
   "metadata": {},
   "outputs": [],
   "source": [
    "train_df = train_test[train_test['test'] == False]\n",
    "test_df = train_test[train_test['test'] == True]"
   ]
  },
  {
   "cell_type": "code",
   "execution_count": 23,
   "metadata": {},
   "outputs": [
    {
     "name": "stderr",
     "output_type": "stream",
     "text": [
      "/home/yjoung90/.pyenv/versions/3.6.4/lib/python3.6/site-packages/ipykernel_launcher.py:1: SettingWithCopyWarning: \n",
      "A value is trying to be set on a copy of a slice from a DataFrame\n",
      "\n",
      "See the caveats in the documentation: http://pandas.pydata.org/pandas-docs/stable/indexing.html#indexing-view-versus-copy\n",
      "  \"\"\"Entry point for launching an IPython kernel.\n",
      "/home/yjoung90/.pyenv/versions/3.6.4/lib/python3.6/site-packages/ipykernel_launcher.py:2: SettingWithCopyWarning: \n",
      "A value is trying to be set on a copy of a slice from a DataFrame\n",
      "\n",
      "See the caveats in the documentation: http://pandas.pydata.org/pandas-docs/stable/indexing.html#indexing-view-versus-copy\n",
      "  \n"
     ]
    }
   ],
   "source": [
    "train_df.drop('test', axis=1, inplace=True)\n",
    "test_df.drop('test', axis=1, inplace=True)"
   ]
  },
  {
   "cell_type": "code",
   "execution_count": 24,
   "metadata": {},
   "outputs": [],
   "source": [
    "train_df = train_df.groupby(['VisitNumber', 'TripType', 'weeknum']).agg('sum').reset_index(drop=False)\n",
    "test_df = test_df.groupby(['VisitNumber', 'weeknum']).agg('sum').reset_index(drop=False)"
   ]
  },
  {
   "cell_type": "code",
   "execution_count": 25,
   "metadata": {},
   "outputs": [
    {
     "data": {
      "text/html": [
       "<div>\n",
       "<style scoped>\n",
       "    .dataframe tbody tr th:only-of-type {\n",
       "        vertical-align: middle;\n",
       "    }\n",
       "\n",
       "    .dataframe tbody tr th {\n",
       "        vertical-align: top;\n",
       "    }\n",
       "\n",
       "    .dataframe thead th {\n",
       "        text-align: right;\n",
       "    }\n",
       "</style>\n",
       "<table border=\"1\" class=\"dataframe\">\n",
       "  <thead>\n",
       "    <tr style=\"text-align: right;\">\n",
       "      <th></th>\n",
       "      <th>VisitNumber</th>\n",
       "      <th>TripType</th>\n",
       "      <th>weeknum</th>\n",
       "      <th>ScanCount</th>\n",
       "      <th>Return</th>\n",
       "      <th>1-HR PHOTO</th>\n",
       "      <th>ACCESSORIES</th>\n",
       "      <th>AUTOMOTIVE</th>\n",
       "      <th>BAKERY</th>\n",
       "      <th>BATH AND SHOWER</th>\n",
       "      <th>...</th>\n",
       "      <th>SWIMWEAR/OUTERWEAR</th>\n",
       "      <th>TOYS</th>\n",
       "      <th>WIRELESS</th>\n",
       "      <th>Mon</th>\n",
       "      <th>Tue</th>\n",
       "      <th>Wed</th>\n",
       "      <th>Thu</th>\n",
       "      <th>Fri</th>\n",
       "      <th>Sat</th>\n",
       "      <th>Sun</th>\n",
       "    </tr>\n",
       "  </thead>\n",
       "  <tbody>\n",
       "    <tr>\n",
       "      <th>0</th>\n",
       "      <td>5</td>\n",
       "      <td>999.0</td>\n",
       "      <td>4.0</td>\n",
       "      <td>-1</td>\n",
       "      <td>1</td>\n",
       "      <td>0</td>\n",
       "      <td>0</td>\n",
       "      <td>0</td>\n",
       "      <td>0</td>\n",
       "      <td>0</td>\n",
       "      <td>...</td>\n",
       "      <td>0</td>\n",
       "      <td>0</td>\n",
       "      <td>0</td>\n",
       "      <td>0</td>\n",
       "      <td>0</td>\n",
       "      <td>0</td>\n",
       "      <td>0</td>\n",
       "      <td>1</td>\n",
       "      <td>0</td>\n",
       "      <td>0</td>\n",
       "    </tr>\n",
       "    <tr>\n",
       "      <th>1</th>\n",
       "      <td>7</td>\n",
       "      <td>30.0</td>\n",
       "      <td>4.0</td>\n",
       "      <td>2</td>\n",
       "      <td>0</td>\n",
       "      <td>0</td>\n",
       "      <td>0</td>\n",
       "      <td>0</td>\n",
       "      <td>0</td>\n",
       "      <td>0</td>\n",
       "      <td>...</td>\n",
       "      <td>0</td>\n",
       "      <td>0</td>\n",
       "      <td>0</td>\n",
       "      <td>0</td>\n",
       "      <td>0</td>\n",
       "      <td>0</td>\n",
       "      <td>0</td>\n",
       "      <td>2</td>\n",
       "      <td>0</td>\n",
       "      <td>0</td>\n",
       "    </tr>\n",
       "    <tr>\n",
       "      <th>2</th>\n",
       "      <td>8</td>\n",
       "      <td>26.0</td>\n",
       "      <td>4.0</td>\n",
       "      <td>28</td>\n",
       "      <td>2</td>\n",
       "      <td>0</td>\n",
       "      <td>0</td>\n",
       "      <td>0</td>\n",
       "      <td>0</td>\n",
       "      <td>0</td>\n",
       "      <td>...</td>\n",
       "      <td>0</td>\n",
       "      <td>0</td>\n",
       "      <td>0</td>\n",
       "      <td>0</td>\n",
       "      <td>0</td>\n",
       "      <td>0</td>\n",
       "      <td>0</td>\n",
       "      <td>23</td>\n",
       "      <td>0</td>\n",
       "      <td>0</td>\n",
       "    </tr>\n",
       "    <tr>\n",
       "      <th>3</th>\n",
       "      <td>9</td>\n",
       "      <td>8.0</td>\n",
       "      <td>4.0</td>\n",
       "      <td>3</td>\n",
       "      <td>0</td>\n",
       "      <td>0</td>\n",
       "      <td>0</td>\n",
       "      <td>0</td>\n",
       "      <td>0</td>\n",
       "      <td>0</td>\n",
       "      <td>...</td>\n",
       "      <td>0</td>\n",
       "      <td>0</td>\n",
       "      <td>0</td>\n",
       "      <td>0</td>\n",
       "      <td>0</td>\n",
       "      <td>0</td>\n",
       "      <td>0</td>\n",
       "      <td>3</td>\n",
       "      <td>0</td>\n",
       "      <td>0</td>\n",
       "    </tr>\n",
       "    <tr>\n",
       "      <th>4</th>\n",
       "      <td>10</td>\n",
       "      <td>8.0</td>\n",
       "      <td>4.0</td>\n",
       "      <td>3</td>\n",
       "      <td>0</td>\n",
       "      <td>0</td>\n",
       "      <td>0</td>\n",
       "      <td>0</td>\n",
       "      <td>0</td>\n",
       "      <td>0</td>\n",
       "      <td>...</td>\n",
       "      <td>0</td>\n",
       "      <td>0</td>\n",
       "      <td>0</td>\n",
       "      <td>0</td>\n",
       "      <td>0</td>\n",
       "      <td>0</td>\n",
       "      <td>0</td>\n",
       "      <td>3</td>\n",
       "      <td>0</td>\n",
       "      <td>0</td>\n",
       "    </tr>\n",
       "  </tbody>\n",
       "</table>\n",
       "<p>5 rows × 81 columns</p>\n",
       "</div>"
      ],
      "text/plain": [
       "   VisitNumber  TripType  weeknum  ScanCount  Return  1-HR PHOTO  ACCESSORIES  \\\n",
       "0            5     999.0      4.0         -1       1           0            0   \n",
       "1            7      30.0      4.0          2       0           0            0   \n",
       "2            8      26.0      4.0         28       2           0            0   \n",
       "3            9       8.0      4.0          3       0           0            0   \n",
       "4           10       8.0      4.0          3       0           0            0   \n",
       "\n",
       "   AUTOMOTIVE  BAKERY  BATH AND SHOWER ...   SWIMWEAR/OUTERWEAR  TOYS  \\\n",
       "0           0       0                0 ...                    0     0   \n",
       "1           0       0                0 ...                    0     0   \n",
       "2           0       0                0 ...                    0     0   \n",
       "3           0       0                0 ...                    0     0   \n",
       "4           0       0                0 ...                    0     0   \n",
       "\n",
       "   WIRELESS  Mon  Tue  Wed  Thu  Fri  Sat  Sun  \n",
       "0         0    0    0    0    0    1    0    0  \n",
       "1         0    0    0    0    0    2    0    0  \n",
       "2         0    0    0    0    0   23    0    0  \n",
       "3         0    0    0    0    0    3    0    0  \n",
       "4         0    0    0    0    0    3    0    0  \n",
       "\n",
       "[5 rows x 81 columns]"
      ]
     },
     "execution_count": 25,
     "metadata": {},
     "output_type": "execute_result"
    }
   ],
   "source": [
    "train_df.head()"
   ]
  },
  {
   "cell_type": "code",
   "execution_count": 26,
   "metadata": {},
   "outputs": [
    {
     "data": {
      "text/plain": [
       "(95674, 81)"
      ]
     },
     "execution_count": 26,
     "metadata": {},
     "output_type": "execute_result"
    }
   ],
   "source": [
    "train_df.shape"
   ]
  },
  {
   "cell_type": "code",
   "execution_count": 27,
   "metadata": {},
   "outputs": [],
   "source": [
    "train_df['TripType'] = train_df['TripType'].astype('category')\n",
    "train_df['ScanCount'] = train_df['ScanCount'].astype(float)                         \n",
    "train_df['VisitNumber'] = train_df['VisitNumber'].astype('category')\n",
    "train_df['Return'] = train_df['Return'].astype(float)"
   ]
  },
  {
   "cell_type": "code",
   "execution_count": 28,
   "metadata": {},
   "outputs": [],
   "source": [
    "test_df['TripType'] = test_df['TripType'].astype('category') \n",
    "test_df['ScanCount'] = test_df['ScanCount'].astype(float)                         \n",
    "test_df['VisitNumber'] = test_df['VisitNumber'].astype('category')\n",
    "test_df['Return'] = test_df['Return'].astype(float)"
   ]
  },
  {
   "cell_type": "code",
   "execution_count": 29,
   "metadata": {},
   "outputs": [],
   "source": [
    "'''\n",
    "모델 성능 평가를 위하여 train set을 6:4 로 나눠서 크로스 밸리데이션\n",
    "'''\n",
    "model_train_df, model_test_df = train_test_split(train_df, test_size = .4) "
   ]
  },
  {
   "cell_type": "code",
   "execution_count": 30,
   "metadata": {},
   "outputs": [
    {
     "name": "stderr",
     "output_type": "stream",
     "text": [
      "/home/yjoung90/.pyenv/versions/3.6.4/lib/python3.6/site-packages/ipykernel_launcher.py:1: SettingWithCopyWarning: \n",
      "A value is trying to be set on a copy of a slice from a DataFrame.\n",
      "Try using .loc[row_indexer,col_indexer] = value instead\n",
      "\n",
      "See the caveats in the documentation: http://pandas.pydata.org/pandas-docs/stable/indexing.html#indexing-view-versus-copy\n",
      "  \"\"\"Entry point for launching an IPython kernel.\n",
      "/home/yjoung90/.pyenv/versions/3.6.4/lib/python3.6/site-packages/pandas/core/indexing.py:537: SettingWithCopyWarning: \n",
      "A value is trying to be set on a copy of a slice from a DataFrame.\n",
      "Try using .loc[row_indexer,col_indexer] = value instead\n",
      "\n",
      "See the caveats in the documentation: http://pandas.pydata.org/pandas-docs/stable/indexing.html#indexing-view-versus-copy\n",
      "  self.obj[item] = s\n",
      "/home/yjoung90/.pyenv/versions/3.6.4/lib/python3.6/site-packages/ipykernel_launcher.py:2: SettingWithCopyWarning: \n",
      "A value is trying to be set on a copy of a slice from a DataFrame.\n",
      "Try using .loc[row_indexer,col_indexer] = value instead\n",
      "\n",
      "See the caveats in the documentation: http://pandas.pydata.org/pandas-docs/stable/indexing.html#indexing-view-versus-copy\n",
      "  \n"
     ]
    }
   ],
   "source": [
    "model_train_df[['Mon', 'Tue', 'Wed', 'Thu', 'Fri', 'Sat', 'Sun']] = np.where(model_train_df[['Mon', 'Tue', 'Wed', 'Thu', 'Fri', 'Sat', 'Sun']] >= 1, 1, 0)\n",
    "model_test_df[['Mon', 'Tue', 'Wed', 'Thu', 'Fri', 'Sat', 'Sun']] = np.where(model_test_df[['Mon', 'Tue', 'Wed', 'Thu', 'Fri', 'Sat', 'Sun']] >= 1, 1, 0)"
   ]
  },
  {
   "cell_type": "code",
   "execution_count": 31,
   "metadata": {},
   "outputs": [],
   "source": [
    "y = model_train_df['TripType']\n",
    "X = model_train_df.drop(['TripType', 'VisitNumber', 'weeknum'], axis=1)"
   ]
  },
  {
   "cell_type": "code",
   "execution_count": 32,
   "metadata": {},
   "outputs": [],
   "source": [
    "test_X = model_test_df.drop(['TripType', 'VisitNumber', 'weeknum'], axis=1)"
   ]
  },
  {
   "cell_type": "code",
   "execution_count": 33,
   "metadata": {},
   "outputs": [],
   "source": [
    "y_actual = model_test_df['TripType']"
   ]
  },
  {
   "cell_type": "code",
   "execution_count": 34,
   "metadata": {},
   "outputs": [],
   "source": [
    "train_df[['Mon', 'Tue', 'Wed', 'Thu', 'Fri', 'Sat', 'Sun']] = np.where(train_df[['Mon', 'Tue', 'Wed', 'Thu', 'Fri', 'Sat', 'Sun']] >= 1, 1, 0)\n",
    "test_df[['Mon', 'Tue', 'Wed', 'Thu', 'Fri', 'Sat', 'Sun']] = np.where(test_df[['Mon', 'Tue', 'Wed', 'Thu', 'Fri', 'Sat', 'Sun']] >= 1, 1, 0)\n",
    "y0 = train_df['TripType']\n",
    "X0 = train_df.drop(['TripType', 'VisitNumber', 'weeknum'], axis=1)"
   ]
  },
  {
   "cell_type": "code",
   "execution_count": 35,
   "metadata": {
    "scrolled": true
   },
   "outputs": [
    {
     "data": {
      "text/plain": [
       "{'TripType', 'VisitNumber', 'weeknum'}"
      ]
     },
     "execution_count": 35,
     "metadata": {},
     "output_type": "execute_result"
    }
   ],
   "source": [
    "set(test_df.columns) - set(X0.columns)"
   ]
  },
  {
   "cell_type": "code",
   "execution_count": 36,
   "metadata": {},
   "outputs": [
    {
     "data": {
      "text/html": [
       "<div>\n",
       "<style scoped>\n",
       "    .dataframe tbody tr th:only-of-type {\n",
       "        vertical-align: middle;\n",
       "    }\n",
       "\n",
       "    .dataframe tbody tr th {\n",
       "        vertical-align: top;\n",
       "    }\n",
       "\n",
       "    .dataframe thead th {\n",
       "        text-align: right;\n",
       "    }\n",
       "</style>\n",
       "<table border=\"1\" class=\"dataframe\">\n",
       "  <thead>\n",
       "    <tr style=\"text-align: right;\">\n",
       "      <th></th>\n",
       "      <th>ScanCount</th>\n",
       "      <th>Return</th>\n",
       "      <th>1-HR PHOTO</th>\n",
       "      <th>ACCESSORIES</th>\n",
       "      <th>AUTOMOTIVE</th>\n",
       "      <th>BAKERY</th>\n",
       "      <th>BATH AND SHOWER</th>\n",
       "      <th>BEAUTY</th>\n",
       "      <th>BEDDING</th>\n",
       "      <th>BOOKS AND MAGAZINES</th>\n",
       "      <th>...</th>\n",
       "      <th>SWIMWEAR/OUTERWEAR</th>\n",
       "      <th>TOYS</th>\n",
       "      <th>WIRELESS</th>\n",
       "      <th>Mon</th>\n",
       "      <th>Tue</th>\n",
       "      <th>Wed</th>\n",
       "      <th>Thu</th>\n",
       "      <th>Fri</th>\n",
       "      <th>Sat</th>\n",
       "      <th>Sun</th>\n",
       "    </tr>\n",
       "  </thead>\n",
       "  <tbody>\n",
       "    <tr>\n",
       "      <th>0</th>\n",
       "      <td>-1.0</td>\n",
       "      <td>1.0</td>\n",
       "      <td>0</td>\n",
       "      <td>0</td>\n",
       "      <td>0</td>\n",
       "      <td>0</td>\n",
       "      <td>0</td>\n",
       "      <td>0</td>\n",
       "      <td>0</td>\n",
       "      <td>0</td>\n",
       "      <td>...</td>\n",
       "      <td>0</td>\n",
       "      <td>0</td>\n",
       "      <td>0</td>\n",
       "      <td>0</td>\n",
       "      <td>0</td>\n",
       "      <td>0</td>\n",
       "      <td>0</td>\n",
       "      <td>1</td>\n",
       "      <td>0</td>\n",
       "      <td>0</td>\n",
       "    </tr>\n",
       "    <tr>\n",
       "      <th>1</th>\n",
       "      <td>2.0</td>\n",
       "      <td>0.0</td>\n",
       "      <td>0</td>\n",
       "      <td>0</td>\n",
       "      <td>0</td>\n",
       "      <td>0</td>\n",
       "      <td>0</td>\n",
       "      <td>0</td>\n",
       "      <td>0</td>\n",
       "      <td>0</td>\n",
       "      <td>...</td>\n",
       "      <td>0</td>\n",
       "      <td>0</td>\n",
       "      <td>0</td>\n",
       "      <td>0</td>\n",
       "      <td>0</td>\n",
       "      <td>0</td>\n",
       "      <td>0</td>\n",
       "      <td>1</td>\n",
       "      <td>0</td>\n",
       "      <td>0</td>\n",
       "    </tr>\n",
       "    <tr>\n",
       "      <th>2</th>\n",
       "      <td>28.0</td>\n",
       "      <td>2.0</td>\n",
       "      <td>0</td>\n",
       "      <td>0</td>\n",
       "      <td>0</td>\n",
       "      <td>0</td>\n",
       "      <td>0</td>\n",
       "      <td>0</td>\n",
       "      <td>0</td>\n",
       "      <td>0</td>\n",
       "      <td>...</td>\n",
       "      <td>0</td>\n",
       "      <td>0</td>\n",
       "      <td>0</td>\n",
       "      <td>0</td>\n",
       "      <td>0</td>\n",
       "      <td>0</td>\n",
       "      <td>0</td>\n",
       "      <td>1</td>\n",
       "      <td>0</td>\n",
       "      <td>0</td>\n",
       "    </tr>\n",
       "    <tr>\n",
       "      <th>3</th>\n",
       "      <td>3.0</td>\n",
       "      <td>0.0</td>\n",
       "      <td>0</td>\n",
       "      <td>0</td>\n",
       "      <td>0</td>\n",
       "      <td>0</td>\n",
       "      <td>0</td>\n",
       "      <td>0</td>\n",
       "      <td>0</td>\n",
       "      <td>0</td>\n",
       "      <td>...</td>\n",
       "      <td>0</td>\n",
       "      <td>0</td>\n",
       "      <td>0</td>\n",
       "      <td>0</td>\n",
       "      <td>0</td>\n",
       "      <td>0</td>\n",
       "      <td>0</td>\n",
       "      <td>1</td>\n",
       "      <td>0</td>\n",
       "      <td>0</td>\n",
       "    </tr>\n",
       "    <tr>\n",
       "      <th>4</th>\n",
       "      <td>3.0</td>\n",
       "      <td>0.0</td>\n",
       "      <td>0</td>\n",
       "      <td>0</td>\n",
       "      <td>0</td>\n",
       "      <td>0</td>\n",
       "      <td>0</td>\n",
       "      <td>0</td>\n",
       "      <td>0</td>\n",
       "      <td>0</td>\n",
       "      <td>...</td>\n",
       "      <td>0</td>\n",
       "      <td>0</td>\n",
       "      <td>0</td>\n",
       "      <td>0</td>\n",
       "      <td>0</td>\n",
       "      <td>0</td>\n",
       "      <td>0</td>\n",
       "      <td>1</td>\n",
       "      <td>0</td>\n",
       "      <td>0</td>\n",
       "    </tr>\n",
       "  </tbody>\n",
       "</table>\n",
       "<p>5 rows × 78 columns</p>\n",
       "</div>"
      ],
      "text/plain": [
       "   ScanCount  Return  1-HR PHOTO  ACCESSORIES  AUTOMOTIVE  BAKERY  \\\n",
       "0       -1.0     1.0           0            0           0       0   \n",
       "1        2.0     0.0           0            0           0       0   \n",
       "2       28.0     2.0           0            0           0       0   \n",
       "3        3.0     0.0           0            0           0       0   \n",
       "4        3.0     0.0           0            0           0       0   \n",
       "\n",
       "   BATH AND SHOWER  BEAUTY  BEDDING  BOOKS AND MAGAZINES ...   \\\n",
       "0                0       0        0                    0 ...    \n",
       "1                0       0        0                    0 ...    \n",
       "2                0       0        0                    0 ...    \n",
       "3                0       0        0                    0 ...    \n",
       "4                0       0        0                    0 ...    \n",
       "\n",
       "   SWIMWEAR/OUTERWEAR  TOYS  WIRELESS  Mon  Tue  Wed  Thu  Fri  Sat  Sun  \n",
       "0                   0     0         0    0    0    0    0    1    0    0  \n",
       "1                   0     0         0    0    0    0    0    1    0    0  \n",
       "2                   0     0         0    0    0    0    0    1    0    0  \n",
       "3                   0     0         0    0    0    0    0    1    0    0  \n",
       "4                   0     0         0    0    0    0    0    1    0    0  \n",
       "\n",
       "[5 rows x 78 columns]"
      ]
     },
     "execution_count": 36,
     "metadata": {},
     "output_type": "execute_result"
    }
   ],
   "source": [
    "X0.head()"
   ]
  },
  {
   "cell_type": "code",
   "execution_count": 37,
   "metadata": {},
   "outputs": [
    {
     "data": {
      "text/plain": [
       "(95674, 78)"
      ]
     },
     "execution_count": 37,
     "metadata": {},
     "output_type": "execute_result"
    }
   ],
   "source": [
    "X0.shape"
   ]
  },
  {
   "cell_type": "markdown",
   "metadata": {},
   "source": [
    "### BY DEPARTMENT DESCRIPTION DECISION TREE"
   ]
  },
  {
   "cell_type": "code",
   "execution_count": 38,
   "metadata": {},
   "outputs": [
    {
     "data": {
      "text/plain": [
       "((95674, 78), (95674,))"
      ]
     },
     "execution_count": 38,
     "metadata": {},
     "output_type": "execute_result"
    }
   ],
   "source": [
    "X0.shape, y0.shape"
   ]
  },
  {
   "cell_type": "code",
   "execution_count": 39,
   "metadata": {},
   "outputs": [
    {
     "data": {
      "text/plain": [
       "(38270, 78)"
      ]
     },
     "execution_count": 39,
     "metadata": {},
     "output_type": "execute_result"
    }
   ],
   "source": [
    "test_X.shape"
   ]
  },
  {
   "cell_type": "code",
   "execution_count": 40,
   "metadata": {},
   "outputs": [],
   "source": [
    "edt_act_model = ExtraTreesClassifier(n_estimators=100, random_state=0).fit(X0,y0)\n",
    "y_hat = pd.Series(edt_act_model.predict(test_X)).astype('float64')"
   ]
  },
  {
   "cell_type": "code",
   "execution_count": null,
   "metadata": {},
   "outputs": [],
   "source": [
    "confusion_matrix(y_actual, y_hat)"
   ]
  },
  {
   "cell_type": "code",
   "execution_count": null,
   "metadata": {
    "scrolled": false
   },
   "outputs": [],
   "source": [
    "importances = edt_act_model.feature_importances_\n",
    "\n",
    "std = np.std([tree.feature_importances_ for tree in edt_act_model.estimators_], axis=0)\n",
    "indices = np.argsort(importances)[::-1]\n",
    "X0_features = X0.columns\n",
    "\n",
    "print(\"Feature ranking:\")\n",
    "for f in range(X0.shape[1]):\n",
    "    print(\"%d. feature %s (%f)\" % (f + 1, X0_features[indices[f]], importances[indices[f]]))\n",
    "\n",
    "plt.figure(figsize=(15,15))\n",
    "plt.title(\"Feature importances\")\n",
    "plt.bar(range(X0.shape[1]), importances[indices], color=\"r\", yerr=std[indices], align=\"center\")\n",
    "plt.xticks(range(X0.shape[1]), indices)\n",
    "plt.xlim([-1, X0.shape[1]])\n",
    "plt.show()\n"
   ]
  },
  {
   "cell_type": "code",
   "execution_count": null,
   "metadata": {},
   "outputs": [],
   "source": []
  },
  {
   "cell_type": "code",
   "execution_count": 41,
   "metadata": {},
   "outputs": [
    {
     "name": "stdout",
     "output_type": "stream",
     "text": [
      "             precision    recall  f1-score   support\n",
      "\n",
      "      999.0       0.81      0.98      0.88      1488\n",
      "       30.0       0.89      0.41      0.56       138\n",
      "       26.0       0.89      0.99      0.93      1818\n",
      "        8.0       0.87      0.95      0.91       506\n",
      "       35.0       0.92      0.93      0.93      2339\n",
      "       41.0       0.86      0.93      0.89      4855\n",
      "       21.0       0.82      0.91      0.87      3753\n",
      "        6.0       0.97      0.98      0.97       121\n",
      "       42.0       1.00      1.00      1.00         2\n",
      "        7.0       0.99      0.91      0.94       392\n",
      "        9.0       0.96      0.86      0.91       231\n",
      "       39.0       0.80      0.61      0.69       142\n",
      "       25.0       0.98      0.85      0.91       271\n",
      "       38.0       0.99      0.95      0.97       243\n",
      "       15.0       0.89      0.72      0.80       372\n",
      "       36.0       0.78      0.63      0.70        60\n",
      "       20.0       0.98      0.92      0.95      1061\n",
      "       37.0       0.98      0.96      0.97      1515\n",
      "       32.0       0.98      0.85      0.91       193\n",
      "       40.0       1.00      0.92      0.96       308\n",
      "        5.0       0.99      0.81      0.89       206\n",
      "        3.0       0.99      0.73      0.84       169\n",
      "        4.0       0.95      0.78      0.86       423\n",
      "       24.0       0.83      0.82      0.83       234\n",
      "       33.0       0.97      0.95      0.96       798\n",
      "       43.0       0.99      0.98      0.99       528\n",
      "       31.0       0.99      0.93      0.96       291\n",
      "       27.0       0.97      0.96      0.97       813\n",
      "       34.0       0.99      0.96      0.97      1194\n",
      "       18.0       0.99      0.95      0.97      1103\n",
      "       29.0       0.98      0.98      0.98      1178\n",
      "       44.0       1.00      0.99      0.99      3958\n",
      "       19.0       1.00      1.00      1.00      2432\n",
      "       23.0       1.00      1.00      1.00       234\n",
      "       22.0       1.00      0.99      0.99       753\n",
      "       28.0       1.00      0.99      1.00       329\n",
      "       14.0       1.00      1.00      1.00       482\n",
      "       12.0       1.00      0.82      0.90      3337\n",
      "\n",
      "avg / total       0.94      0.93      0.93     38270\n",
      "\n"
     ]
    }
   ],
   "source": [
    "train_df['TripType'] = train_df['TripType'].astype('str')\n",
    "target_names = list(train_df['TripType'].unique())\n",
    "print(classification_report(y_actual, y_hat, target_names=target_names))"
   ]
  },
  {
   "cell_type": "code",
   "execution_count": 32,
   "metadata": {},
   "outputs": [
    {
     "name": "stdout",
     "output_type": "stream",
     "text": [
      "(95674, 78)\n"
     ]
    },
    {
     "data": {
      "text/html": [
       "<div>\n",
       "<style scoped>\n",
       "    .dataframe tbody tr th:only-of-type {\n",
       "        vertical-align: middle;\n",
       "    }\n",
       "\n",
       "    .dataframe tbody tr th {\n",
       "        vertical-align: top;\n",
       "    }\n",
       "\n",
       "    .dataframe thead th {\n",
       "        text-align: right;\n",
       "    }\n",
       "</style>\n",
       "<table border=\"1\" class=\"dataframe\">\n",
       "  <thead>\n",
       "    <tr style=\"text-align: right;\">\n",
       "      <th></th>\n",
       "      <th>ScanCount</th>\n",
       "      <th>Return</th>\n",
       "      <th>1-HR PHOTO</th>\n",
       "      <th>ACCESSORIES</th>\n",
       "      <th>AUTOMOTIVE</th>\n",
       "      <th>BAKERY</th>\n",
       "      <th>BATH AND SHOWER</th>\n",
       "      <th>BEAUTY</th>\n",
       "      <th>BEDDING</th>\n",
       "      <th>BOOKS AND MAGAZINES</th>\n",
       "      <th>...</th>\n",
       "      <th>SWIMWEAR/OUTERWEAR</th>\n",
       "      <th>TOYS</th>\n",
       "      <th>WIRELESS</th>\n",
       "      <th>Mon</th>\n",
       "      <th>Tue</th>\n",
       "      <th>Wed</th>\n",
       "      <th>Thu</th>\n",
       "      <th>Fri</th>\n",
       "      <th>Sat</th>\n",
       "      <th>Sun</th>\n",
       "    </tr>\n",
       "  </thead>\n",
       "  <tbody>\n",
       "    <tr>\n",
       "      <th>0</th>\n",
       "      <td>-1.0</td>\n",
       "      <td>1.0</td>\n",
       "      <td>0</td>\n",
       "      <td>0</td>\n",
       "      <td>0</td>\n",
       "      <td>0</td>\n",
       "      <td>0</td>\n",
       "      <td>0</td>\n",
       "      <td>0</td>\n",
       "      <td>0</td>\n",
       "      <td>...</td>\n",
       "      <td>0</td>\n",
       "      <td>0</td>\n",
       "      <td>0</td>\n",
       "      <td>0</td>\n",
       "      <td>0</td>\n",
       "      <td>0</td>\n",
       "      <td>0</td>\n",
       "      <td>1</td>\n",
       "      <td>0</td>\n",
       "      <td>0</td>\n",
       "    </tr>\n",
       "    <tr>\n",
       "      <th>1</th>\n",
       "      <td>2.0</td>\n",
       "      <td>0.0</td>\n",
       "      <td>0</td>\n",
       "      <td>0</td>\n",
       "      <td>0</td>\n",
       "      <td>0</td>\n",
       "      <td>0</td>\n",
       "      <td>0</td>\n",
       "      <td>0</td>\n",
       "      <td>0</td>\n",
       "      <td>...</td>\n",
       "      <td>0</td>\n",
       "      <td>0</td>\n",
       "      <td>0</td>\n",
       "      <td>0</td>\n",
       "      <td>0</td>\n",
       "      <td>0</td>\n",
       "      <td>0</td>\n",
       "      <td>1</td>\n",
       "      <td>0</td>\n",
       "      <td>0</td>\n",
       "    </tr>\n",
       "    <tr>\n",
       "      <th>2</th>\n",
       "      <td>28.0</td>\n",
       "      <td>2.0</td>\n",
       "      <td>0</td>\n",
       "      <td>0</td>\n",
       "      <td>0</td>\n",
       "      <td>0</td>\n",
       "      <td>0</td>\n",
       "      <td>0</td>\n",
       "      <td>0</td>\n",
       "      <td>0</td>\n",
       "      <td>...</td>\n",
       "      <td>0</td>\n",
       "      <td>0</td>\n",
       "      <td>0</td>\n",
       "      <td>0</td>\n",
       "      <td>0</td>\n",
       "      <td>0</td>\n",
       "      <td>0</td>\n",
       "      <td>1</td>\n",
       "      <td>0</td>\n",
       "      <td>0</td>\n",
       "    </tr>\n",
       "    <tr>\n",
       "      <th>3</th>\n",
       "      <td>3.0</td>\n",
       "      <td>0.0</td>\n",
       "      <td>0</td>\n",
       "      <td>0</td>\n",
       "      <td>0</td>\n",
       "      <td>0</td>\n",
       "      <td>0</td>\n",
       "      <td>0</td>\n",
       "      <td>0</td>\n",
       "      <td>0</td>\n",
       "      <td>...</td>\n",
       "      <td>0</td>\n",
       "      <td>0</td>\n",
       "      <td>0</td>\n",
       "      <td>0</td>\n",
       "      <td>0</td>\n",
       "      <td>0</td>\n",
       "      <td>0</td>\n",
       "      <td>1</td>\n",
       "      <td>0</td>\n",
       "      <td>0</td>\n",
       "    </tr>\n",
       "    <tr>\n",
       "      <th>4</th>\n",
       "      <td>3.0</td>\n",
       "      <td>0.0</td>\n",
       "      <td>0</td>\n",
       "      <td>0</td>\n",
       "      <td>0</td>\n",
       "      <td>0</td>\n",
       "      <td>0</td>\n",
       "      <td>0</td>\n",
       "      <td>0</td>\n",
       "      <td>0</td>\n",
       "      <td>...</td>\n",
       "      <td>0</td>\n",
       "      <td>0</td>\n",
       "      <td>0</td>\n",
       "      <td>0</td>\n",
       "      <td>0</td>\n",
       "      <td>0</td>\n",
       "      <td>0</td>\n",
       "      <td>1</td>\n",
       "      <td>0</td>\n",
       "      <td>0</td>\n",
       "    </tr>\n",
       "  </tbody>\n",
       "</table>\n",
       "<p>5 rows × 78 columns</p>\n",
       "</div>"
      ],
      "text/plain": [
       "   ScanCount  Return  1-HR PHOTO  ACCESSORIES  AUTOMOTIVE  BAKERY  \\\n",
       "0       -1.0     1.0           0            0           0       0   \n",
       "1        2.0     0.0           0            0           0       0   \n",
       "2       28.0     2.0           0            0           0       0   \n",
       "3        3.0     0.0           0            0           0       0   \n",
       "4        3.0     0.0           0            0           0       0   \n",
       "\n",
       "   BATH AND SHOWER  BEAUTY  BEDDING  BOOKS AND MAGAZINES ...   \\\n",
       "0                0       0        0                    0 ...    \n",
       "1                0       0        0                    0 ...    \n",
       "2                0       0        0                    0 ...    \n",
       "3                0       0        0                    0 ...    \n",
       "4                0       0        0                    0 ...    \n",
       "\n",
       "   SWIMWEAR/OUTERWEAR  TOYS  WIRELESS  Mon  Tue  Wed  Thu  Fri  Sat  Sun  \n",
       "0                   0     0         0    0    0    0    0    1    0    0  \n",
       "1                   0     0         0    0    0    0    0    1    0    0  \n",
       "2                   0     0         0    0    0    0    0    1    0    0  \n",
       "3                   0     0         0    0    0    0    0    1    0    0  \n",
       "4                   0     0         0    0    0    0    0    1    0    0  \n",
       "\n",
       "[5 rows x 78 columns]"
      ]
     },
     "execution_count": 32,
     "metadata": {},
     "output_type": "execute_result"
    }
   ],
   "source": [
    "print(X0.shape)\n",
    "X0.head()"
   ]
  },
  {
   "cell_type": "code",
   "execution_count": 33,
   "metadata": {},
   "outputs": [
    {
     "data": {
      "text/plain": [
       "(95674, 78)"
      ]
     },
     "execution_count": 33,
     "metadata": {},
     "output_type": "execute_result"
    }
   ],
   "source": [
    "X0_test = test_df.drop(['TripType', 'VisitNumber', 'weeknum'], axis=1)\n",
    "X0_test.shape"
   ]
  },
  {
   "cell_type": "code",
   "execution_count": 34,
   "metadata": {
    "scrolled": true
   },
   "outputs": [
    {
     "data": {
      "text/plain": [
       "(95674, 78)"
      ]
     },
     "execution_count": 34,
     "metadata": {},
     "output_type": "execute_result"
    }
   ],
   "source": [
    "X0.shape"
   ]
  },
  {
   "cell_type": "markdown",
   "metadata": {},
   "source": [
    "# finelineNumber 더한 train set"
   ]
  },
  {
   "cell_type": "markdown",
   "metadata": {},
   "source": [
    "### X1는 fineline더해진 train set\n",
    "### X1_test는 fineline더해진 test set"
   ]
  },
  {
   "cell_type": "code",
   "execution_count": null,
   "metadata": {},
   "outputs": [],
   "source": [
    "grouped_fineline = pd.read_csv('grouped_fineline.csv')"
   ]
  },
  {
   "cell_type": "code",
   "execution_count": null,
   "metadata": {},
   "outputs": [],
   "source": [
    "X1 = pd.concat([X0,grouped_fineline[:95674]], axis=1)\n",
    "X1.shape"
   ]
  },
  {
   "cell_type": "code",
   "execution_count": null,
   "metadata": {},
   "outputs": [],
   "source": [
    "X1_test = test_df.drop(['TripType', 'VisitNumber', 'weeknum'], axis=1)\n",
    "X1_test.shape"
   ]
  },
  {
   "cell_type": "code",
   "execution_count": null,
   "metadata": {},
   "outputs": [],
   "source": [
    "X1_test = pd.concat([X1_test,grouped_fineline[:95674]], axis=1)\n",
    "X1_test.shape"
   ]
  },
  {
   "cell_type": "code",
   "execution_count": null,
   "metadata": {},
   "outputs": [],
   "source": [
    "y0.shape"
   ]
  },
  {
   "cell_type": "code",
   "execution_count": null,
   "metadata": {},
   "outputs": [],
   "source": [
    "forest_all = ExtraTreesClassifier(n_estimators=100, random_state=0).fit(X1,y0)\n",
    "# y_hat = pd.Series(forest_all.predict(X1)).astype('float64')"
   ]
  },
  {
   "cell_type": "code",
   "execution_count": null,
   "metadata": {},
   "outputs": [],
   "source": [
    "# print(classification_report(y0, y_hat, target_names=target_names))"
   ]
  },
  {
   "cell_type": "code",
   "execution_count": null,
   "metadata": {
    "scrolled": true
   },
   "outputs": [],
   "source": [
    "importances_forest_all = forest_all.feature_importances_\n",
    "\n",
    "std = np.std([tree.feature_importances_ for tree in forest_all.estimators_], axis=0)\n",
    "indices = np.argsort(importances_forest_all)[::-1]\n",
    "\n",
    "forest_feature_list = []\n",
    "print(\"Feature ranking:\")\n",
    "for f in range(X1.shape[1]):\n",
    "    print(\"%d. feature %s (%f)\" % (f + 1, X1.columns[indices[f]], importances_forest_all[indices[f]]))\n",
    "    forest_feature_list.append(X1.columns[indices[f]])\n",
    "    \n",
    "\n",
    "plt.figure(figsize=(15,15))\n",
    "plt.title(\"Feature importances\")\n",
    "plt.bar(range(X1.shape[1]), importances_forest_all[indices], color=\"r\", yerr=std[indices], align=\"center\")\n",
    "plt.xticks(range(X1.shape[1]), indices)\n",
    "plt.xlim([-1, X1.shape[1]])\n",
    "plt.show()"
   ]
  },
  {
   "cell_type": "code",
   "execution_count": null,
   "metadata": {
    "scrolled": false
   },
   "outputs": [],
   "source": [
    "forest_feature_list = forest_feature_list[:1300]\n",
    "X1_reduced = X1.loc[:,forest_feature_list]"
   ]
  },
  {
   "cell_type": "code",
   "execution_count": null,
   "metadata": {},
   "outputs": [],
   "source": [
    "X1_test_reduced = X1_test.loc[:,forest_feature_list]\n",
    "X1_test_reduced.shape"
   ]
  },
  {
   "cell_type": "code",
   "execution_count": null,
   "metadata": {},
   "outputs": [],
   "source": [
    "X1_reduced = pd.concat([X1_reduced, df_preprocessed[:95674]], axis=1)\n",
    "print(X1_reduced.shape)\n",
    "X1_reduced.head()"
   ]
  },
  {
   "cell_type": "code",
   "execution_count": null,
   "metadata": {
    "scrolled": true
   },
   "outputs": [],
   "source": [
    "X1_test_reduced = (np.hstack([np.array(X1_test_reduced), np.array(df_preprocessed[95674:])]))\n",
    "X1_test_reduced.shape"
   ]
  },
  {
   "cell_type": "code",
   "execution_count": null,
   "metadata": {},
   "outputs": [],
   "source": [
    "X1_test_reduced = pd.DataFrame(X1_test_reduced, columns=X1_reduced.columns)\n",
    "X1_test_reduced.head()"
   ]
  },
  {
   "cell_type": "code",
   "execution_count": null,
   "metadata": {},
   "outputs": [],
   "source": []
  },
  {
   "cell_type": "code",
   "execution_count": null,
   "metadata": {},
   "outputs": [],
   "source": [
    "from sklearn.preprocessing import StandardScaler\n",
    "\n",
    "scaler = StandardScaler()\n",
    "scaler.fit(X1_reduced)\n",
    "X1_reduced_scaled = scaler.transform(X1_reduced)"
   ]
  },
  {
   "cell_type": "code",
   "execution_count": null,
   "metadata": {},
   "outputs": [],
   "source": [
    "X1_test_reduced_scaled = scaler.transform(X1_test_reduced)"
   ]
  },
  {
   "cell_type": "code",
   "execution_count": null,
   "metadata": {
    "scrolled": true
   },
   "outputs": [],
   "source": [
    "X1_reduced_scaled = pd.DataFrame(X1_reduced_scaled, columns=X1_test_reduced.columns)\n",
    "X1_reduced_scaled"
   ]
  },
  {
   "cell_type": "code",
   "execution_count": null,
   "metadata": {
    "scrolled": true
   },
   "outputs": [],
   "source": [
    "X1_test_reduced_scaled = pd.DataFrame(X1_test_reduced_scaled, columns=X1_test_reduced.columns)\n",
    "X1_test_reduced_scaled"
   ]
  },
  {
   "cell_type": "code",
   "execution_count": null,
   "metadata": {},
   "outputs": [],
   "source": [
    "from imblearn.combine import *"
   ]
  },
  {
   "cell_type": "code",
   "execution_count": null,
   "metadata": {},
   "outputs": [],
   "source": []
  },
  {
   "cell_type": "code",
   "execution_count": null,
   "metadata": {
    "scrolled": true
   },
   "outputs": [],
   "source": [
    "# X_oversampled, y_oversampled = SMOTEENN(random_state=0).fit_sample(X1_reduced_scaled, y0)\n",
    "# y_pred__0 = plot_samples(X_oversampled, y_oversampled)"
   ]
  },
  {
   "cell_type": "code",
   "execution_count": null,
   "metadata": {},
   "outputs": [],
   "source": []
  },
  {
   "cell_type": "code",
   "execution_count": null,
   "metadata": {},
   "outputs": [],
   "source": [
    "forest_all = ExtraTreesClassifier(n_estimators=100, random_state=0).fit(X1_reduced_scaled,y0)\n",
    "# y_hat = pd.Series(forest_all.predict(X1)).astype('float64')"
   ]
  },
  {
   "cell_type": "code",
   "execution_count": null,
   "metadata": {
    "scrolled": true
   },
   "outputs": [],
   "source": [
    "importances_forest_all = forest_all.feature_importances_\n",
    "\n",
    "std = np.std([tree.feature_importances_ for tree in forest_all.estimators_], axis=0)\n",
    "indices = np.argsort(importances_forest_all)[::-1]\n",
    "\n",
    "forest_feature_list = []\n",
    "print(\"Feature ranking:\")\n",
    "for f in range(X1_reduced_scaled.shape[1]):\n",
    "    print(\"%d. feature %s (%f)\" % (f + 1, X1_reduced_scaled.columns[indices[f]], importances_forest_all[indices[f]]))\n",
    "    forest_feature_list.append(X1_reduced_scaled.columns[indices[f]])\n",
    "    \n",
    "\n",
    "plt.figure(figsize=(15,15))\n",
    "plt.title(\"Feature importances\")\n",
    "plt.bar(range(X1_reduced_scaled.shape[1]), importances_forest_all[indices], color=\"r\", yerr=std[indices], align=\"center\")\n",
    "plt.xticks(range(X1_reduced_scaled.shape[1]), indices)\n",
    "plt.xlim([-1, X1_reduced_scaled.shape[1]])\n",
    "plt.show()"
   ]
  },
  {
   "cell_type": "code",
   "execution_count": null,
   "metadata": {},
   "outputs": [],
   "source": [
    "from sklearn.preprocessing import LabelEncoder\n",
    "le = LabelEncoder()\n",
    "le.fit(y0)\n",
    "le.classes_"
   ]
  },
  {
   "cell_type": "code",
   "execution_count": null,
   "metadata": {},
   "outputs": [],
   "source": [
    "y0_encoded = le.transform(y0) \n",
    "y0_encoded"
   ]
  },
  {
   "cell_type": "code",
   "execution_count": null,
   "metadata": {},
   "outputs": [],
   "source": [
    "plt.figure(figsize=(15,10))\n",
    "sns.distplot(y0_encoded)\n",
    "plt.xticks(range(0,39))\n",
    "plt.show()"
   ]
  },
  {
   "cell_type": "code",
   "execution_count": null,
   "metadata": {},
   "outputs": [],
   "source": [
    "df_preprocessed.head()"
   ]
  },
  {
   "cell_type": "code",
   "execution_count": null,
   "metadata": {},
   "outputs": [],
   "source": [
    "X1_1000 = pd.read_csv('X1_1000_final.csv')\n",
    "X1_test_1000 = pd.read_csv('X1_test_1000.csv')"
   ]
  },
  {
   "cell_type": "code",
   "execution_count": null,
   "metadata": {},
   "outputs": [],
   "source": [
    "import lightgbm as lgb\n"
   ]
  },
  {
   "cell_type": "code",
   "execution_count": null,
   "metadata": {},
   "outputs": [],
   "source": [
    "X1_1000.drop('Unnamed: 0', axis = 1, inplace=True)\n",
    "X1_1000.head()"
   ]
  },
  {
   "cell_type": "code",
   "execution_count": null,
   "metadata": {},
   "outputs": [],
   "source": [
    "X1_test_1000.drop('Unnamed: 0', axis = 1, inplace=True)\n",
    "X1_test_1000.head()"
   ]
  },
  {
   "cell_type": "code",
   "execution_count": null,
   "metadata": {},
   "outputs": [],
   "source": [
    "forest_all = ExtraTreesClassifier(n_estimators=100, random_state=0).fit(X1_oversampled_14, y_oversampled_14)"
   ]
  },
  {
   "cell_type": "code",
   "execution_count": null,
   "metadata": {},
   "outputs": [],
   "source": [
    "y_oversampled_14"
   ]
  },
  {
   "cell_type": "code",
   "execution_count": null,
   "metadata": {},
   "outputs": [],
   "source": [
    "importances_forest_all = forest_all.feature_importances_\n",
    "\n",
    "std = np.std([tree.feature_importances_ for tree in forest_all.estimators_], axis=0)\n",
    "indices = np.argsort(importances_forest_all)[::-1]\n",
    "\n",
    "forest_feature_list = []\n",
    "print(\"Feature ranking:\")\n",
    "for f in range(X1_oversampled_14.shape[1]):\n",
    "    print(\"%d. feature %s (%f)\" % (f + 1,X1_oversampled_14.columns[indices[f]], importances_forest_all[indices[f]]))\n",
    "    forest_feature_list.append(X1_oversampled_14.columns[indices[f]])\n",
    "    \n",
    "\n",
    "plt.figure(figsize=(15,15))\n",
    "plt.title(\"Feature importances\")\n",
    "plt.bar(range(X1_oversampled_14.shape[1]), importances_forest_all[indices], color=\"r\", yerr=std[indices], align=\"center\")\n",
    "plt.xticks(range(X1_oversampled_14.shape[1]), indices)\n",
    "plt.xlim([-1, X1_oversampled_14.shape[1]])\n",
    "plt.show()"
   ]
  },
  {
   "cell_type": "code",
   "execution_count": null,
   "metadata": {},
   "outputs": [],
   "source": [
    "from collections import Counter\n",
    "Counter(y0) #  14.0: 4\n",
    "# y0[y0==14.0]"
   ]
  },
  {
   "cell_type": "code",
   "execution_count": null,
   "metadata": {},
   "outputs": [],
   "source": [
    "X1_1000.shape"
   ]
  },
  {
   "cell_type": "code",
   "execution_count": null,
   "metadata": {},
   "outputs": [],
   "source": [
    "X1_14_for_oversampling = X1_1000.iloc[[1099,6168,12546,27385],:]\n",
    "X1_1000_14 = pd.concat([X1_1000, X1_14_for_oversampling])\n",
    "X1_1000_14.shape"
   ]
  },
  {
   "cell_type": "code",
   "execution_count": null,
   "metadata": {},
   "outputs": [],
   "source": [
    "\n",
    "y0_14 = pd.concat([y0,(pd.Series([14.0,14.0,14.0,14.0], index=[95674,95675,95676,95677]))])"
   ]
  },
  {
   "cell_type": "code",
   "execution_count": null,
   "metadata": {
    "scrolled": true
   },
   "outputs": [],
   "source": [
    "from imblearn.over_sampling import *\n",
    "\n",
    "\n",
    "X1_oversampled, y_oversampled = SMOTE(ratio='minority', random_state=0).fit_sample(X1_1000_14, y0_14)\n",
    "X1_oversampled.shape, y_oversampled.shape"
   ]
  },
  {
   "cell_type": "code",
   "execution_count": null,
   "metadata": {},
   "outputs": [],
   "source": [
    "len(y_oversampled[y_oversampled==14.0]) #12161\n",
    "idx_oversampled = np.random.randint(12161, size = (300))"
   ]
  },
  {
   "cell_type": "code",
   "execution_count": null,
   "metadata": {},
   "outputs": [],
   "source": [
    "y_14 = (y_oversampled[y_oversampled==14.0])[idx_oversampled]\n",
    "y_14.shape"
   ]
  },
  {
   "cell_type": "code",
   "execution_count": null,
   "metadata": {},
   "outputs": [],
   "source": [
    "x1_14 = ((X1_oversampled[y_oversampled==14.0])[idx_oversampled])\n",
    "x1_14.shape"
   ]
  },
  {
   "cell_type": "code",
   "execution_count": null,
   "metadata": {},
   "outputs": [],
   "source": [
    "###### (X1_oversampled[y_oversampled != 14.0]).shape , (y_oversampled[y_oversampled != 14.0]).shape\n",
    "X1_oversampled = X1_oversampled[y_oversampled != 14.0]\n",
    "y_oversampled = y_oversampled[y_oversampled != 14.0]\n",
    "X1_oversampled.shape, y_oversampled.shape"
   ]
  },
  {
   "cell_type": "code",
   "execution_count": null,
   "metadata": {
    "scrolled": true
   },
   "outputs": [],
   "source": [
    "X1_oversampled_14 = pd.DataFrame(np.vstack([X1_oversampled,x1_14]), columns=X1_1000.columns)\n",
    "# X1_oversampled_14.tail(305)\n",
    "y_oversampled_14 = pd.Series(np.hstack([y_oversampled,y_14]), index = range(95970))\n",
    "y_oversampled_14[-305:]"
   ]
  },
  {
   "cell_type": "code",
   "execution_count": null,
   "metadata": {},
   "outputs": [],
   "source": [
    "X1_oversampled_14.to_csv('X1_oversampled_14.csv', index=False)\n",
    "y_oversampled_14.to_csv('y_oversampled_14.csv', index=False)"
   ]
  },
  {
   "cell_type": "code",
   "execution_count": null,
   "metadata": {
    "scrolled": true
   },
   "outputs": [],
   "source": [
    "Counter(y_oversampled_14)"
   ]
  },
  {
   "cell_type": "code",
   "execution_count": null,
   "metadata": {},
   "outputs": [],
   "source": [
    "forest_feature_list1 = forest_feature_list[:300]\n",
    "X1_reduced1 = X1_oversampled_14.loc[:,forest_feature_list1]\n",
    "X1_reduced1.head()\n",
    "X1_test_reduced1 = X1_test_1000.loc[:,forest_feature_list1]\n",
    "X1_test_reduced1.shape"
   ]
  },
  {
   "cell_type": "code",
   "execution_count": null,
   "metadata": {},
   "outputs": [],
   "source": [
    "forest_feature_list2 = forest_feature_list[:400]\n",
    "X1_reduced2 = X1_oversampled_14.loc[:,forest_feature_list2]\n",
    "X1_reduced2.tail()\n",
    "X1_test_reduced2 = X1_test_1000.loc[:,forest_feature_list1]\n",
    "X1_test_reduced2.shape"
   ]
  },
  {
   "cell_type": "code",
   "execution_count": null,
   "metadata": {},
   "outputs": [],
   "source": [
    "forest_feature_list3 = forest_feature_list[:500]\n",
    "X1_reduced3 = X1_oversampled_14.loc[:,forest_feature_list3]\n",
    "X1_reduced3.tail()\n",
    "X1_test_reduced3 = X1_test_1000.loc[:,forest_feature_list1]\n",
    "X1_test_reduced3.shape"
   ]
  },
  {
   "cell_type": "code",
   "execution_count": null,
   "metadata": {},
   "outputs": [],
   "source": [
    "forest_feature_list4 = forest_feature_list[:600]\n",
    "X1_reduced4 = X1_oversampled_14.loc[:,forest_feature_list4]\n",
    "X1_reduced4.head()\n",
    "X1_test_reduced4 = X1_test_1000.loc[:,forest_feature_list1]\n",
    "X1_test_reduced4.shape"
   ]
  },
  {
   "cell_type": "code",
   "execution_count": null,
   "metadata": {},
   "outputs": [],
   "source": [
    "forest_feature_list5 = forest_feature_list[:700]\n",
    "X1_reduced5 = X1_oversampled_14.loc[:,forest_feature_list5]\n",
    "X1_reduced5.head()\n",
    "X1_test_reduced5 = X1_test_1000.loc[:,forest_feature_list1]\n",
    "X1_test_reduced5.shape"
   ]
  },
  {
   "cell_type": "code",
   "execution_count": null,
   "metadata": {},
   "outputs": [],
   "source": [
    "forest_feature_list6 = forest_feature_list[:800]\n",
    "X1_reduced6 = X1_oversampled_14.loc[:,forest_feature_list6]\n",
    "X1_reduced6.head()\n",
    "X1_test_reduced6 = X1_test_1000.loc[:,forest_feature_list1]\n",
    "X1_test_reduced6.shape"
   ]
  },
  {
   "cell_type": "code",
   "execution_count": null,
   "metadata": {},
   "outputs": [],
   "source": [
    "forest_feature_list7 = forest_feature_list[:900]\n",
    "X1_reduced7 = X1_oversampled_14.loc[:,forest_feature_list7]\n",
    "X1_reduced7.head()\n",
    "X1_test_reduced7 = X1_test_1000.loc[:,forest_feature_list1]\n",
    "X1_test_reduced7.shape"
   ]
  },
  {
   "cell_type": "code",
   "execution_count": null,
   "metadata": {},
   "outputs": [],
   "source": [
    "forest_feature_list8 = forest_feature_list[:1000]\n",
    "X1_reduced8 = X1_oversampled_14.loc[:,forest_feature_list8]\n",
    "X1_reduced8.head()\n",
    "X1_test_reduced8 = X1_test_1000.loc[:,forest_feature_list1]\n",
    "X1_test_reduced8.shape"
   ]
  },
  {
   "cell_type": "code",
   "execution_count": null,
   "metadata": {},
   "outputs": [],
   "source": [
    "X1_reduced_data_list = [X1_reduced1,X1_reduced2,X1_reduced3,X1_reduced4,X1_reduced5,\\\n",
    "                        X1_reduced6,X1_reduced7,X1_reduced8]\n",
    "#  X1_reduced2,X1_reduced3,X1_reduced4,X1_reduced5,\\\n",
    "#                         X1_reduced6,X1_reduced7,X1_reduced8"
   ]
  },
  {
   "cell_type": "code",
   "execution_count": null,
   "metadata": {},
   "outputs": [],
   "source": [
    "d=1\n",
    "for i in X1_reduced_data_list:\n",
    "    i.to_csv('x1_reduced_%d.csv'%d)\n",
    "    d += 1"
   ]
  },
  {
   "cell_type": "code",
   "execution_count": 71,
   "metadata": {},
   "outputs": [
    {
     "data": {
      "text/plain": [
       "0        999.0\n",
       "1         30.0\n",
       "2         26.0\n",
       "3          8.0\n",
       "4          8.0\n",
       "5         35.0\n",
       "6         41.0\n",
       "7         21.0\n",
       "8          6.0\n",
       "9         42.0\n",
       "10         7.0\n",
       "11         9.0\n",
       "12         8.0\n",
       "13        39.0\n",
       "14        25.0\n",
       "15         8.0\n",
       "16         9.0\n",
       "17         8.0\n",
       "18         8.0\n",
       "19         8.0\n",
       "20         8.0\n",
       "21         8.0\n",
       "22         8.0\n",
       "23        38.0\n",
       "24         8.0\n",
       "25        35.0\n",
       "26        15.0\n",
       "27         9.0\n",
       "28         8.0\n",
       "29         8.0\n",
       "         ...  \n",
       "95940     14.0\n",
       "95941     14.0\n",
       "95942     14.0\n",
       "95943     14.0\n",
       "95944     14.0\n",
       "95945     14.0\n",
       "95946     14.0\n",
       "95947     14.0\n",
       "95948     14.0\n",
       "95949     14.0\n",
       "95950     14.0\n",
       "95951     14.0\n",
       "95952     14.0\n",
       "95953     14.0\n",
       "95954     14.0\n",
       "95955     14.0\n",
       "95956     14.0\n",
       "95957     14.0\n",
       "95958     14.0\n",
       "95959     14.0\n",
       "95960     14.0\n",
       "95961     14.0\n",
       "95962     14.0\n",
       "95963     14.0\n",
       "95964     14.0\n",
       "95965     14.0\n",
       "95966     14.0\n",
       "95967     14.0\n",
       "95968     14.0\n",
       "95969     14.0\n",
       "Length: 95970, dtype: float64"
      ]
     },
     "execution_count": 71,
     "metadata": {},
     "output_type": "execute_result"
    }
   ],
   "source": [
    "y0.shape\n",
    "y_oversampled_14 = y0[y0!=14.0]\n",
    "y_oversampled_14.shape\n",
    "y_oversampled_14 = pd.Series(np.hstack([np.array(y_oversampled_14),np.array([14.0]*300)]), index = range(95970))\n",
    "y_oversampled_14"
   ]
  },
  {
   "cell_type": "markdown",
   "metadata": {},
   "source": [
    "# 모형 최적화"
   ]
  },
  {
   "cell_type": "code",
   "execution_count": null,
   "metadata": {},
   "outputs": [],
   "source": [
    "X1_reduced1 = pd.read_csv('x1_reduced_1.csv')\n",
    "X1_reduced2 = pd.read_csv('x1_reduced_2.csv')\n",
    "X1_reduced3 = pd.read_csv('x1_reduced_3.csv')\n",
    "X1_reduced4 = pd.read_csv('x1_reduced_4.csv')\n",
    "X1_reduced5 = pd.read_csv('x1_reduced_5.csv')\n",
    "X1_reduced6 = pd.read_csv('x1_reduced_6.csv')\n",
    "X1_reduced7 = pd.read_csv('x1_reduced_7.csv')\n",
    "X1_reduced8 = pd.read_csv('x1_reduced_8.csv')"
   ]
  },
  {
   "cell_type": "code",
   "execution_count": 70,
   "metadata": {},
   "outputs": [],
   "source": [
    "X1_reduced5 = pd.read_csv('x1_reduced_5.csv')\n",
    "X1_reduced6 = pd.read_csv('x1_reduced_6.csv')"
   ]
  },
  {
   "cell_type": "code",
   "execution_count": null,
   "metadata": {},
   "outputs": [],
   "source": [
    "X1_reduced6 = pd.read_csv('x1_reduced_6.csv')\n",
    "X1_reduced7 = pd.read_csv('x1_reduced_7.csv')"
   ]
  },
  {
   "cell_type": "code",
   "execution_count": 35,
   "metadata": {},
   "outputs": [],
   "source": [
    "X1_reduced7 = pd.read_csv('x1_reduced_7.csv')\n",
    "X1_reduced8 = pd.read_csv('x1_reduced_8.csv')"
   ]
  },
  {
   "cell_type": "code",
   "execution_count": 36,
   "metadata": {},
   "outputs": [
    {
     "data": {
      "text/plain": [
       "((95970, 900), (95970, 1000))"
      ]
     },
     "execution_count": 36,
     "metadata": {},
     "output_type": "execute_result"
    }
   ],
   "source": [
    "X1_reduced7.shape,X1_reduced8.shape"
   ]
  },
  {
   "cell_type": "code",
   "execution_count": 72,
   "metadata": {},
   "outputs": [],
   "source": [
    "import lightgbm as lgb"
   ]
  },
  {
   "cell_type": "code",
   "execution_count": 84,
   "metadata": {},
   "outputs": [],
   "source": [
    "from sklearn.model_selection import cross_val_score\n",
    "\n",
    "def logloss_cv(model):\n",
    "    \n",
    "    logloss= (-cross_val_score(model, X1_reduced5, y_oversampled_14, scoring=\"neg_log_loss\", cv = 10))\n",
    "    return(logloss)"
   ]
  },
  {
   "cell_type": "code",
   "execution_count": 74,
   "metadata": {},
   "outputs": [],
   "source": [
    "def change_dtype(l, dtype=int):\n",
    "    return map(dtype, l)"
   ]
  },
  {
   "cell_type": "code",
   "execution_count": 75,
   "metadata": {},
   "outputs": [
    {
     "ename": "NameError",
     "evalue": "name 'X1_test_reduced1' is not defined",
     "output_type": "error",
     "traceback": [
      "\u001b[0;31m---------------------------------------------------------------------------\u001b[0m",
      "\u001b[0;31mNameError\u001b[0m                                 Traceback (most recent call last)",
      "\u001b[0;32m<ipython-input-75-ef0919b51543>\u001b[0m in \u001b[0;36m<module>\u001b[0;34m()\u001b[0m\n\u001b[1;32m      3\u001b[0m \u001b[0mscaler\u001b[0m \u001b[0;34m=\u001b[0m \u001b[0mStandardScaler\u001b[0m\u001b[0;34m(\u001b[0m\u001b[0;34m)\u001b[0m\u001b[0;34m\u001b[0m\u001b[0m\n\u001b[1;32m      4\u001b[0m \u001b[0mX1_reduced_train\u001b[0m \u001b[0;34m=\u001b[0m \u001b[0mscaler\u001b[0m\u001b[0;34m.\u001b[0m\u001b[0mfit_transform\u001b[0m\u001b[0;34m(\u001b[0m\u001b[0mX1_reduced5\u001b[0m\u001b[0;34m)\u001b[0m\u001b[0;34m\u001b[0m\u001b[0m\n\u001b[0;32m----> 5\u001b[0;31m \u001b[0mX1_reduced_test\u001b[0m \u001b[0;34m=\u001b[0m \u001b[0mscaler\u001b[0m\u001b[0;34m.\u001b[0m\u001b[0mfit_transform\u001b[0m\u001b[0;34m(\u001b[0m\u001b[0mX1_test_reduced1\u001b[0m\u001b[0;34m)\u001b[0m\u001b[0;34m\u001b[0m\u001b[0m\n\u001b[0m\u001b[1;32m      6\u001b[0m \u001b[0;34m\u001b[0m\u001b[0m\n",
      "\u001b[0;31mNameError\u001b[0m: name 'X1_test_reduced1' is not defined"
     ]
    }
   ],
   "source": [
    "from sklearn.preprocessing import StandardScaler\n",
    "\n",
    "scaler = StandardScaler()\n",
    "X1_reduced_train = scaler.fit_transform(X1_reduced5)\n",
    "X1_reduced_test = scaler.fit_transform(X1_test_reduced1)\n",
    "\n"
   ]
  },
  {
   "cell_type": "code",
   "execution_count": 76,
   "metadata": {},
   "outputs": [],
   "source": [
    "from sklearn.preprocessing import StandardScaler\n",
    "\n",
    "def determine_best_lgb(X1_reduced_data_list, param_range):\n",
    "    cv_lgb_list = []\n",
    "    for X1_reduced_train in X1_reduced_data_list:\n",
    "        scaler = StandardScaler()\n",
    "        X1_reduced_train = scaler.fit_transform(X1_reduced_train)\n",
    "#         X1_reduced_test = scaler.fit_transform(X1_test_reduced1)\n",
    "        cv_lgb = [logloss_cv(lgb.LGBMClassifier(n_estimators=i,sub_row=0.8, subsample=0.8, subsample_freq=1)).mean() \n",
    "            for i in param_range]\n",
    "        cv_lgb_list.append(cv_lgb)\n",
    "    return cv_lgb_list\n",
    "    \n"
   ]
  },
  {
   "cell_type": "code",
   "execution_count": 85,
   "metadata": {},
   "outputs": [
    {
     "data": {
      "text/plain": [
       "[140, 110, 80]"
      ]
     },
     "execution_count": 85,
     "metadata": {},
     "output_type": "execute_result"
    }
   ],
   "source": [
    "param_range = np.linspace(140, 80, 3)\n",
    "param_range = list(change_dtype(param_range))\n",
    "param_range"
   ]
  },
  {
   "cell_type": "code",
   "execution_count": 86,
   "metadata": {},
   "outputs": [],
   "source": [
    "X1_reduced_data_list = [X1_reduced5]"
   ]
  },
  {
   "cell_type": "code",
   "execution_count": 87,
   "metadata": {},
   "outputs": [],
   "source": [
    "import lightgbm as lgb"
   ]
  },
  {
   "cell_type": "code",
   "execution_count": 42,
   "metadata": {},
   "outputs": [
    {
     "ename": "NameError",
     "evalue": "name 'logloss_cv' is not defined",
     "output_type": "error",
     "traceback": [
      "\u001b[0;31m----------------------------------------------------------------\u001b[0m",
      "\u001b[0;31mNameError\u001b[0m                      Traceback (most recent call last)",
      "\u001b[0;32m<ipython-input-42-88538d7a8f0b>\u001b[0m in \u001b[0;36m<module>\u001b[0;34m()\u001b[0m\n\u001b[0;32m----> 1\u001b[0;31m \u001b[0mdetermine_best_lgb\u001b[0m\u001b[0;34m(\u001b[0m\u001b[0mX1_reduced_data_list\u001b[0m\u001b[0;34m,\u001b[0m \u001b[0mparam_range\u001b[0m\u001b[0;34m)\u001b[0m\u001b[0;34m\u001b[0m\u001b[0m\n\u001b[0m",
      "\u001b[0;32m<ipython-input-39-b809000683ef>\u001b[0m in \u001b[0;36mdetermine_best_lgb\u001b[0;34m(X1_reduced_data_list, param_range)\u001b[0m\n\u001b[1;32m      8\u001b[0m \u001b[0;31m#         X1_reduced_test = scaler.fit_transform(X1_test_reduced1)\u001b[0m\u001b[0;34m\u001b[0m\u001b[0;34m\u001b[0m\u001b[0m\n\u001b[1;32m      9\u001b[0m         cv_lgb = [logloss_cv(lgb.LGBMClassifier(n_estimators=i,sub_row=0.8, subsample=0.8, subsample_freq=1)).mean() \n\u001b[0;32m---> 10\u001b[0;31m             for i in param_range]\n\u001b[0m\u001b[1;32m     11\u001b[0m         \u001b[0mcv_lgb_list\u001b[0m\u001b[0;34m.\u001b[0m\u001b[0mappend\u001b[0m\u001b[0;34m(\u001b[0m\u001b[0mcv_lgb\u001b[0m\u001b[0;34m)\u001b[0m\u001b[0;34m\u001b[0m\u001b[0m\n\u001b[1;32m     12\u001b[0m     \u001b[0;32mreturn\u001b[0m \u001b[0mcv_lgb_list\u001b[0m\u001b[0;34m\u001b[0m\u001b[0m\n",
      "\u001b[0;32m<ipython-input-39-b809000683ef>\u001b[0m in \u001b[0;36m<listcomp>\u001b[0;34m(.0)\u001b[0m\n\u001b[1;32m      8\u001b[0m \u001b[0;31m#         X1_reduced_test = scaler.fit_transform(X1_test_reduced1)\u001b[0m\u001b[0;34m\u001b[0m\u001b[0;34m\u001b[0m\u001b[0m\n\u001b[1;32m      9\u001b[0m         cv_lgb = [logloss_cv(lgb.LGBMClassifier(n_estimators=i,sub_row=0.8, subsample=0.8, subsample_freq=1)).mean() \n\u001b[0;32m---> 10\u001b[0;31m             for i in param_range]\n\u001b[0m\u001b[1;32m     11\u001b[0m         \u001b[0mcv_lgb_list\u001b[0m\u001b[0;34m.\u001b[0m\u001b[0mappend\u001b[0m\u001b[0;34m(\u001b[0m\u001b[0mcv_lgb\u001b[0m\u001b[0;34m)\u001b[0m\u001b[0;34m\u001b[0m\u001b[0m\n\u001b[1;32m     12\u001b[0m     \u001b[0;32mreturn\u001b[0m \u001b[0mcv_lgb_list\u001b[0m\u001b[0;34m\u001b[0m\u001b[0m\n",
      "\u001b[0;31mNameError\u001b[0m: name 'logloss_cv' is not defined"
     ]
    }
   ],
   "source": [
    "determine_best_lgb(X1_reduced_data_list, param_range)"
   ]
  },
  {
   "cell_type": "code",
   "execution_count": 88,
   "metadata": {},
   "outputs": [],
   "source": [
    "cv_lasso = [logloss_cv(lgb.LGBMClassifier(n_estimators=i,sub_row=0.8, subsample=0.8, subsample_freq=1)).mean() \n",
    "            for i in param_range]"
   ]
  },
  {
   "cell_type": "code",
   "execution_count": 81,
   "metadata": {},
   "outputs": [],
   "source": [
    "min_lasso = min(cv_lasso)\n",
    "min_index = cv_lasso.index(min_lasso)"
   ]
  },
  {
   "cell_type": "code",
   "execution_count": 82,
   "metadata": {},
   "outputs": [
    {
     "data": {
      "text/plain": [
       "(1.1665309128667567, 2)"
      ]
     },
     "execution_count": 82,
     "metadata": {},
     "output_type": "execute_result"
    }
   ],
   "source": [
    "min_lasso, min_index"
   ]
  },
  {
   "cell_type": "code",
   "execution_count": 83,
   "metadata": {},
   "outputs": [
    {
     "data": {
      "text/plain": [
       "[3.0678101137933997, 1.2472006160282405, 1.1665309128667567]"
      ]
     },
     "execution_count": 83,
     "metadata": {},
     "output_type": "execute_result"
    }
   ],
   "source": [
    "cv_lasso"
   ]
  },
  {
   "cell_type": "code",
   "execution_count": null,
   "metadata": {},
   "outputs": [],
   "source": [
    "\n",
    "plt.figure(figsize=(8, 6))\n",
    "plt.semilogx(10.0**alphas, (cv_lasso), label='Lasso: Train')\n",
    "\n",
    "plt.xlabel('$\\lambda$')\n",
    "plt.ylabel(r'$RMSE$')\n",
    "\n",
    "plt.grid()\n",
    "plt.legend(loc = 'best')\n",
    "\n",
    "plt.show()\n",
    "print('min RMSE on training set', min(cv_lasso))"
   ]
  },
  {
   "cell_type": "markdown",
   "metadata": {},
   "source": [
    "## Best-fit-model\n",
    "\n"
   ]
  },
  {
   "cell_type": "code",
   "execution_count": null,
   "metadata": {},
   "outputs": [],
   "source": [
    "n_estimators = param_range[index]"
   ]
  },
  {
   "cell_type": "code",
   "execution_count": null,
   "metadata": {},
   "outputs": [],
   "source": [
    "scaler = StandardScaler()\n",
    "X1_reduced_train = scaler.fit_transform(X1_reduced1)\n",
    "X1_reduced_test = scaler.transform(X1_test_reduced1)"
   ]
  },
  {
   "cell_type": "code",
   "execution_count": null,
   "metadata": {},
   "outputs": [],
   "source": [
    "lgb_best_model = lgb.LGBMClassifier(n_estimators=n_estimators,sub_row=0.8, subsample=0.8,\\\n",
    "                               subsample_freq=1).fit(X1_reduced_train, y_oversampled_14)"
   ]
  },
  {
   "cell_type": "code",
   "execution_count": null,
   "metadata": {},
   "outputs": [],
   "source": [
    "predict_prob = lgb_model.predict_proba(X1_reduced_test).astype(float)"
   ]
  },
  {
   "cell_type": "markdown",
   "metadata": {},
   "source": [
    "## submission"
   ]
  },
  {
   "cell_type": "code",
   "execution_count": null,
   "metadata": {},
   "outputs": [],
   "source": [
    "def submission_format(title_csv):\n",
    "    submission_df = pd.DataFrame(predict_prob)\n",
    "    submission_df.insert(0,'VisitNumber', sample_submission['VisitNumber'])\n",
    "    submission_df.head()\n",
    "    \n",
    "    submission_df.columns = sample_submission.columns\n",
    "    \n",
    "    print(submission_df.shape)\n",
    "    submission_df.head()\n",
    "    \n",
    "    submission_df.to_csv(titile_csv, index = False)\n",
    "    "
   ]
  },
  {
   "cell_type": "code",
   "execution_count": null,
   "metadata": {},
   "outputs": [],
   "source": [
    "submission_format(' .csv')"
   ]
  },
  {
   "cell_type": "markdown",
   "metadata": {},
   "source": [
    "### validation_curve"
   ]
  },
  {
   "cell_type": "code",
   "execution_count": null,
   "metadata": {},
   "outputs": [],
   "source": [
    "from sklearn.model_selection import validation_curve"
   ]
  },
  {
   "cell_type": "code",
   "execution_count": null,
   "metadata": {},
   "outputs": [],
   "source": [
    "def change_dtype(l, dtype=int):\n",
    "    return map(dtype, l)"
   ]
  },
  {
   "cell_type": "code",
   "execution_count": null,
   "metadata": {},
   "outputs": [],
   "source": [
    "param_range = np.linspace(200,170,2)\n",
    "param_range = list(change_dtype(param_range))\n",
    "param_range"
   ]
  },
  {
   "cell_type": "code",
   "execution_count": null,
   "metadata": {},
   "outputs": [],
   "source": [
    "n_jobs=2"
   ]
  },
  {
   "cell_type": "code",
   "execution_count": null,
   "metadata": {},
   "outputs": [],
   "source": [
    "from sklearn.preprocessing import StandardScaler\n",
    "\n",
    "def determine_lgb_train(X1_reduced_data_list, param_range, n_jobs):\n",
    "    i = 1\n",
    "    for X1_reduced_train in X1_reduced_data_list:\n",
    "        \n",
    "        scaler = StandardScaler()\n",
    "        X1_reduced_train = scaler.fit_transform(X1_reduced_train)\n",
    "        \n",
    "        print('i')\n",
    "        i += 1\n",
    "        train_scores, test_scores = \\\n",
    "            validation_curve(lgb.LGBMClassifier( random_state=1), X1_reduced_train, y0, \n",
    "                     param_name=\"n_estimators\", param_range=param_range,\n",
    "                     cv=10, scoring=\"neg_log_loss\", n_jobs=n_jobs)\n",
    "            \n",
    "        train_scores_mean = np.mean(train_scores, axis=1)\n",
    "        train_scores_std = np.std(train_scores, axis=1)\n",
    "        test_scores_mean = np.mean(test_scores, axis=1)\n",
    "        test_scores_std = np.std(test_scores, axis=1)\n",
    "\n",
    "        mpl.rcParams[\"font.family\"] = 'DejaVu Sans'\n",
    "        plt.semilogx(param_range, train_scores_mean, label=\"Training score\", color=\"r\")\n",
    "        plt.fill_between(param_range, train_scores_mean - train_scores_std,\n",
    "                 train_scores_mean + train_scores_std, alpha=0.2, color=\"r\")\n",
    "        plt.semilogx(param_range, test_scores_mean, label=\"Cross-validation score\", color=\"g\")\n",
    "        plt.fill_between(param_range, test_scores_mean - test_scores_std,\n",
    "                 test_scores_mean + test_scores_std, alpha=0.2, color=\"g\")\n",
    "        plt.legend(loc=\"best\")\n",
    "        plt.title(\"Validation Curve with ExtremeTree\")\n",
    "        plt.xlabel(\"$\\gamma$\")\n",
    "        plt.ylabel(\"Score\")\n",
    "#         plt.ylim(0.0, 1.1)\n",
    "        plt.show()\n",
    "        print(gs.best_score_)\n",
    "        print(gs.best_params_)\n",
    "        print('--')"
   ]
  },
  {
   "cell_type": "code",
   "execution_count": null,
   "metadata": {
    "scrolled": true
   },
   "outputs": [],
   "source": [
    "# determine_lgb_train(X1_reduced_data_list, param_range, n_jobs)"
   ]
  },
  {
   "cell_type": "code",
   "execution_count": null,
   "metadata": {},
   "outputs": [],
   "source": [
    "train_scores, test_scores = \\\n",
    "    validation_curve(lgb.LGBMClassifier( random_state=1), X1_reduced1, y0, \n",
    "                     param_name=\"n_estimators\", param_range=param_range,\n",
    "                     cv=10, scoring=\"neg_log_loss\", n_jobs=2)"
   ]
  },
  {
   "cell_type": "code",
   "execution_count": null,
   "metadata": {},
   "outputs": [],
   "source": [
    "train_scores_mean = np.mean(train_scores, axis=1)\n",
    "print('train_scores_mean is {}'.format(train_scores_mean))\n",
    "train_scores_std = np.std(train_scores, axis=1)\n",
    "test_scores_mean = np.mean(test_scores, axis=1)\n",
    "print('test_scores_mean is {}'.format(test_scores_mean))\n",
    "test_scores_std = np.std(test_scores, axis=1)\n",
    "\n",
    "mpl.rcParams[\"font.family\"] = 'DejaVu Sans'\n",
    "plt.semilogx(param_range, train_scores_mean, label=\"Training score\", color=\"r\")\n",
    "plt.fill_between(param_range, train_scores_mean - train_scores_std,\n",
    "                 train_scores_mean + train_scores_std, alpha=0.2, color=\"r\")\n",
    "plt.semilogx(param_range, test_scores_mean, label=\"Cross-validation score\", color=\"g\")\n",
    "plt.fill_between(param_range, test_scores_mean - test_scores_std,\n",
    "                 test_scores_mean + test_scores_std, alpha=0.2, color=\"g\")\n",
    "plt.legend(loc=\"best\")\n",
    "plt.title(\"Validation Curve with ExtremeTree\")\n",
    "plt.xlabel(\"$\\gamma$\")\n",
    "plt.ylabel(\"Score\")\n",
    "# plt.ylim(0.0, 1.1)\n",
    "plt.show()"
   ]
  },
  {
   "cell_type": "markdown",
   "metadata": {},
   "source": [
    "## Grid Search"
   ]
  },
  {
   "cell_type": "code",
   "execution_count": null,
   "metadata": {},
   "outputs": [],
   "source": [
    "\n",
    "\n",
    "from sklearn.model_selection import GridSearchCV\n",
    "from sklearn.pipeline import Pipeline\n",
    "from sklearn.preprocessing import StandardScaler\n",
    "\n",
    "\n",
    "pipe_lgb = Pipeline([('scl', StandardScaler()), ('clf', lgb.LGBMClassifier( boosting_type='gbdt', num_leaves=30, max_depth=5, learning_rate=0.1, max_bin=225, \n",
    " min_split_gain=0, \n",
    " min_child_weight=5, \n",
    " min_child_samples=10, subsample=1, subsample_freq=1, \n",
    "colsample_bytree=1, \n",
    "reg_alpha=1, reg_lambda=0, seed=410, nthread=7, silent=True))])\n",
    "\n",
    "param_grid = [\n",
    "    {'clf__n_estimators': param_range}]\n",
    "\n",
    "gs = GridSearchCV(estimator=pipe_lgb, param_grid=param_grid, scoring='neg_log_loss', cv=10, n_jobs=1)\n",
    "%time gs = gs.fit(X1_reduced1, y0)\n"
   ]
  },
  {
   "cell_type": "code",
   "execution_count": null,
   "metadata": {},
   "outputs": [],
   "source": [
    "gs.cv_results_\n",
    "# gs.best_score_\n",
    "# gs.best_params_\n",
    "# gs.best_estimator_"
   ]
  },
  {
   "cell_type": "code",
   "execution_count": null,
   "metadata": {},
   "outputs": [],
   "source": [
    "test_scores_mean = gs.cv_results_['mean_test_score']\n",
    "print('test_scores_mean is {}'.format(test_scores_mean))\n",
    "\n",
    "test_scores_std = np.std(train_scores, axis=1)\n",
    "\n",
    "mpl.rcParams[\"font.family\"] = 'DejaVu Sans'\n",
    "# plt.semilogx(param_range, train_scores_mean, label=\"Training score\", color=\"r\")\n",
    "# plt.fill_between(param_range, train_scores_mean - train_scores_std,\n",
    "#                  train_scores_mean + train_scores_std, alpha=0.2, color=\"r\")\n",
    "plt.semilogx(param_range, test_scores_mean, label=\"Cross-validation score\", color=\"g\")\n",
    "plt.fill_between(param_range, test_scores_mean - test_scores_std,\n",
    "                 test_scores_mean + test_scores_std, alpha=0.2, color=\"g\")\n",
    "plt.legend(loc=\"best\")\n",
    "plt.title(\"Validation Curve with LGB\")\n",
    "plt.xlabel(\"N_estimators\")\n",
    "plt.ylabel(\"Score\")\n",
    "# plt.ylim(0.0, 1.1)\n",
    "plt.show()"
   ]
  },
  {
   "cell_type": "code",
   "execution_count": null,
   "metadata": {},
   "outputs": [],
   "source": []
  },
  {
   "cell_type": "markdown",
   "metadata": {},
   "source": [
    "# 최적의 extremeTree 모형을 찾고 이를 기준으로 bagging을 한다."
   ]
  },
  {
   "cell_type": "markdown",
   "metadata": {},
   "source": [
    "sklearn.ensemble.BaggingClassifier(base_estimator=None, n_estimators=10, max_samples=1.0, max_features=1.0, bootstrap=True, bootstrap_features=False, oob_score=False, warm_start=False, n_jobs=1, random_state=None, verbose=0)"
   ]
  },
  {
   "cell_type": "code",
   "execution_count": null,
   "metadata": {},
   "outputs": [],
   "source": [
    "from sklearn.ensemble import BaggingClassifier\n",
    "\n",
    "bagging_model = BaggingClassifier(ExtraTreesClassifier(n_estimators=*, random_state=0),\\\n",
    "                                bootstrap=True, bootstrap_features=True)\n"
   ]
  },
  {
   "cell_type": "code",
   "execution_count": null,
   "metadata": {},
   "outputs": [],
   "source": [
    "param_range_bag = np.linspace(50,5,16)\n",
    "param_range_bag"
   ]
  },
  {
   "cell_type": "code",
   "execution_count": null,
   "metadata": {},
   "outputs": [],
   "source": [
    "train_scores, test_scores = \\\n",
    "    validation_curve(bagging_model, X_oversampled, y_oversampled, \n",
    "                     param_name=\"n_estimators\", param_range=param_range_bag,\n",
    "                     cv=10, scoring=\"neg_log_loss\",max_samples=0.7, n_jobs=2)"
   ]
  },
  {
   "cell_type": "code",
   "execution_count": null,
   "metadata": {},
   "outputs": [],
   "source": [
    "train_scores_mean = np.mean(train_scores, axis=1)\n",
    "train_scores_std = np.std(train_scores, axis=1)\n",
    "test_scores_mean = np.mean(test_scores, axis=1)\n",
    "test_scores_std = np.std(test_scores, axis=1)\n",
    "\n",
    "mpl.rcParams[\"font.family\"] = 'DejaVu Sans'\n",
    "plt.semilogx(param_range, train_scores_mean, label=\"Training score\", color=\"r\")\n",
    "plt.fill_between(param_range, train_scores_mean - train_scores_std,\n",
    "                 train_scores_mean + train_scores_std, alpha=0.2, color=\"r\")\n",
    "plt.semilogx(param_range, test_scores_mean, label=\"Cross-validation score\", color=\"g\")\n",
    "plt.fill_between(param_range, test_scores_mean - test_scores_std,\n",
    "                 test_scores_mean + test_scores_std, alpha=0.2, color=\"g\")\n",
    "plt.legend(loc=\"best\")\n",
    "plt.title(\"Validation Curve with ExtremeTree\")\n",
    "plt.xlabel(\"$\\gamma$\")\n",
    "plt.ylabel(\"Score\")\n",
    "plt.ylim(0.0, 1.1)\n",
    "plt.show()"
   ]
  },
  {
   "cell_type": "code",
   "execution_count": null,
   "metadata": {},
   "outputs": [],
   "source": []
  },
  {
   "cell_type": "markdown",
   "metadata": {},
   "source": [
    "## BY FINELINE NUMBER"
   ]
  },
  {
   "cell_type": "code",
   "execution_count": null,
   "metadata": {},
   "outputs": [],
   "source": []
  },
  {
   "cell_type": "code",
   "execution_count": null,
   "metadata": {},
   "outputs": [],
   "source": [
    "# import pickle\n",
    "# pickle.dump(grouped_fineline1, open(\"grouped_fineline_pickle2.p\", \"wb\"))\n",
    "# params_ridge_list = pickle.load(open(\"data/ridge_params.p\", \"rb\"))"
   ]
  },
  {
   "cell_type": "code",
   "execution_count": null,
   "metadata": {},
   "outputs": [],
   "source": [
    "grouped_fineline.to_hdf('grouped_fineline.h5','grouped_fineline',mode='w')"
   ]
  },
  {
   "cell_type": "markdown",
   "metadata": {},
   "source": [
    "## Sumission Creator"
   ]
  },
  {
   "cell_type": "code",
   "execution_count": null,
   "metadata": {},
   "outputs": [],
   "source": [
    "lets_test = test_df.drop(['TripType', 'VisitNumber','weeknum'], axis=1)"
   ]
  },
  {
   "cell_type": "code",
   "execution_count": null,
   "metadata": {},
   "outputs": [],
   "source": [
    "X0.shape"
   ]
  },
  {
   "cell_type": "code",
   "execution_count": null,
   "metadata": {
    "scrolled": true
   },
   "outputs": [],
   "source": [
    "lets_test.shape"
   ]
  },
  {
   "cell_type": "code",
   "execution_count": null,
   "metadata": {},
   "outputs": [],
   "source": [
    "# test_df['lr_yhat'] = lr_model.predict_proba(lets_test).astype('int')\n",
    "# test_df['qda_yhat'] = qda_model.predict_proba(lets_test).astype('int')\n",
    "# test_df['lda_yhat'] = lda_model.predict_proba(lets_test).astype('int')\n",
    "# test_df['bnb_yhat'] = bnb_model.predict_proba(lets_test).astype('int')\n",
    "# test_df['mnb_yhat'] = mnb_model.predict_proba(lets_test).astype('int')\n",
    "# predict_prob = forest_model2.predict_proba(X1_test_reduced).astype(float)\n",
    "# predict_prob = forest_all.predict_proba(X1_test_reduced_scaled).astype(float)\n",
    "# test_dionsf['dt_yhat'] = dt_model.predict_proba(lets_test).astype('int')\n",
    "# predictions_prob = xgb_model.predict_proba(lets_test).astype('int')\n",
    "# predictions_prob = rf_model.predict_proba(lets_test).astype(float)\n",
    "predict_prob = lgb_model.predict_proba(X1_test_reduced1).astype(float)"
   ]
  },
  {
   "cell_type": "code",
   "execution_count": null,
   "metadata": {},
   "outputs": [],
   "source": [
    "train_df"
   ]
  },
  {
   "cell_type": "code",
   "execution_count": null,
   "metadata": {},
   "outputs": [],
   "source": [
    "test_df"
   ]
  },
  {
   "cell_type": "code",
   "execution_count": null,
   "metadata": {},
   "outputs": [],
   "source": [
    "def submission_format(title_csv):\n",
    "    submission_df = pd.DataFrame(predict_prob)\n",
    "    submission_df.insert(0,'VisitNumber', sample_submission['VisitNumber'])\n",
    "    submission_df.head()\n",
    "    \n",
    "    submission_df.columns = sample_submission.columns\n",
    "    \n",
    "    print(submission_df.shape)\n",
    "    submission_df.head()\n",
    "    \n",
    "    submission_df.to_csv(titile_csv, index = False)\n",
    "    "
   ]
  },
  {
   "cell_type": "code",
   "execution_count": null,
   "metadata": {},
   "outputs": [],
   "source": [
    "tmp_ss = sample_submission.copy()\n",
    "submission_df = pd.DataFrame(predict_prob)\n",
    "submission_df.insert(0,'VisitNumber', sample_submission['VisitNumber'])\n",
    "submission_df.head()"
   ]
  },
  {
   "cell_type": "code",
   "execution_count": null,
   "metadata": {},
   "outputs": [],
   "source": [
    "submission_df.columns = sample_submission.columns\n",
    "print(submission_df.shape)\n",
    "submission_df.head()"
   ]
  },
  {
   "cell_type": "code",
   "execution_count": null,
   "metadata": {},
   "outputs": [],
   "source": [
    "submission_df.to_csv('submission_forestmodel2_9.csv', index = False)"
   ]
  },
  {
   "cell_type": "markdown",
   "metadata": {},
   "source": [
    "## RESULT"
   ]
  },
  {
   "attachments": {
    "image.png": {
     "image/png": "[encoded data removed]"
    }
   },
   "cell_type": "markdown",
   "metadata": {},
   "source": [
    "#### LR FIRST\n",
    "file:///home/yjoung90/Documents/datascience/teamproject2/capture/lr_1.png![image.png](attachment:image.png)"
   ]
  },
  {
   "attachments": {
    "image.png": {
     "image/png": "[encoded data removed]"
    }
   },
   "cell_type": "markdown",
   "metadata": {},
   "source": [
    "#### LDA FIRST\n",
    "file:///home/yjoung90/Documents/datascience/teamproject2/capture/lda_first.png![image.png](attachment:image.png)"
   ]
  },
  {
   "attachments": {
    "image.png": {
     "image/png": "[encoded data removed]"
    }
   },
   "cell_type": "markdown",
   "metadata": {},
   "source": [
    "#### QDA FIRST\n",
    "file:///home/yjoung90/Documents/datascience/teamproject2/capture/qda_first.png![image.png](attachment:image.png)"
   ]
  },
  {
   "attachments": {
    "image.png": {
     "image/png": "[encoded data removed]"
    }
   },
   "cell_type": "markdown",
   "metadata": {},
   "source": [
    "#### BNB FIRST\n",
    "file:///home/yjoung90/Documents/datascience/teamproject2/capture/bnb_first.png![image.png](attachment:image.png)"
   ]
  },
  {
   "attachments": {
    "image.png": {
     "image/png": "[encoded data removed]"
    }
   },
   "cell_type": "markdown",
   "metadata": {},
   "source": [
    "#### DT FIRST\n",
    "file:///home/yjoung90/Documents/datascience/teamproject2/capture/dt_first.png![image.png](attachment:image.png)"
   ]
  },
  {
   "attachments": {
    "image.png": {
     "image/png": "[encoded data removed]"
    }
   },
   "cell_type": "markdown",
   "metadata": {},
   "source": [
    "#### LR SECOND\n",
    "file:///home/yjoung90/Documents/datascience/teamproject2/capture/lr_second.png![image.png](attachment:image.png)"
   ]
  },
  {
   "attachments": {
    "image.png": {
     "image/png": "[encoded data removed]"
    }
   },
   "cell_type": "markdown",
   "metadata": {},
   "source": [
    "#### BNB SECOND\n",
    "file:///home/yjoung90/Documents/datascience/teamproject2/capture/bnb_second.png![image.png](attachment:image.png)"
   ]
  },
  {
   "cell_type": "code",
   "execution_count": null,
   "metadata": {},
   "outputs": [],
   "source": []
  }
 ],
 "metadata": {
  "kernelspec": {
   "display_name": "Python 3",
   "language": "python",
   "name": "python3"
  },
  "language_info": {
   "codemirror_mode": {
    "name": "ipython",
    "version": 3
   },
   "file_extension": ".py",
   "mimetype": "text/x-python",
   "name": "python",
   "nbconvert_exporter": "python",
   "pygments_lexer": "ipython3",
   "version": "3.6.4"
  }
 },
 "nbformat": 4,
 "nbformat_minor": 2
}
